{
 "cells": [
  {
   "cell_type": "markdown",
   "metadata": {},
   "source": [
    "### Load libraries"
   ]
  },
  {
   "cell_type": "code",
   "execution_count": 1,
   "metadata": {},
   "outputs": [],
   "source": [
    "import pandas as pd\n",
    "from sklearn.model_selection import train_test_split\n",
    "from sklearn.feature_extraction.text import TfidfVectorizer, CountVectorizer\n",
    "from sklearn.linear_model import LogisticRegression\n",
    "from sklearn.metrics import classification_report, accuracy_score\n",
    "from sklearn.pipeline import make_pipeline\n",
    "import matplotlib.pyplot as plt\n",
    "import numpy as np\n",
    "import joblib\n",
    "import re\n",
    "from imblearn.over_sampling import SMOTE\n",
    "from imblearn.pipeline import Pipeline  # Important for combining SMOTE with other steps\n",
    "import spacy\n",
    "from tqdm import tqdm\n",
    "from src.utils import *"
   ]
  },
  {
   "cell_type": "markdown",
   "metadata": {},
   "source": [
    "## 1) Data"
   ]
  },
  {
   "cell_type": "code",
   "execution_count": 2,
   "metadata": {},
   "outputs": [
    {
     "data": {
      "text/html": [
       "<div>\n",
       "<style scoped>\n",
       "    .dataframe tbody tr th:only-of-type {\n",
       "        vertical-align: middle;\n",
       "    }\n",
       "\n",
       "    .dataframe tbody tr th {\n",
       "        vertical-align: top;\n",
       "    }\n",
       "\n",
       "    .dataframe thead th {\n",
       "        text-align: right;\n",
       "    }\n",
       "</style>\n",
       "<table border=\"1\" class=\"dataframe\">\n",
       "  <thead>\n",
       "    <tr style=\"text-align: right;\">\n",
       "      <th></th>\n",
       "      <th>product_id</th>\n",
       "      <th>quality_status</th>\n",
       "      <th>manufacturer_name</th>\n",
       "      <th>manufacturer_pid</th>\n",
       "      <th>model</th>\n",
       "      <th>short_description</th>\n",
       "      <th>long_description</th>\n",
       "      <th>additional_description</th>\n",
       "      <th>noun</th>\n",
       "      <th>norm</th>\n",
       "      <th>scope</th>\n",
       "      <th>site</th>\n",
       "      <th>cleaned_noun</th>\n",
       "      <th>category_noun</th>\n",
       "      <th>matched_noun</th>\n",
       "    </tr>\n",
       "  </thead>\n",
       "  <tbody>\n",
       "    <tr>\n",
       "      <th>0</th>\n",
       "      <td>101050487</td>\n",
       "      <td>SPARROW_APPROVED</td>\n",
       "      <td>CKD</td>\n",
       "      <td>SCM-FA-20B-100-T3H3-D-Z-6</td>\n",
       "      <td>SCM-FA-20B-100-T3H3-D-Z-6</td>\n",
       "      <td>air cylinder</td>\n",
       "      <td>NaN</td>\n",
       "      <td>NaN</td>\n",
       "      <td>cylinder</td>\n",
       "      <td>NaN</td>\n",
       "      <td>In</td>\n",
       "      <td>YA2Z Shiga</td>\n",
       "      <td>cylinder</td>\n",
       "      <td>Valves, Actuator, Fittings</td>\n",
       "      <td>cylinder</td>\n",
       "    </tr>\n",
       "    <tr>\n",
       "      <th>1</th>\n",
       "      <td>101050486</td>\n",
       "      <td>SPARROW_APPROVED</td>\n",
       "      <td>CKD</td>\n",
       "      <td>SCM-TA-25B-50-T3H3-D-B2-6</td>\n",
       "      <td>SCM-TA-25B-50-T3H3-D-B2-6</td>\n",
       "      <td>air cylinder</td>\n",
       "      <td>NaN</td>\n",
       "      <td>NaN</td>\n",
       "      <td>cylinder</td>\n",
       "      <td>NaN</td>\n",
       "      <td>In</td>\n",
       "      <td>YA2Z Shiga</td>\n",
       "      <td>cylinder</td>\n",
       "      <td>Valves, Actuator, Fittings</td>\n",
       "      <td>cylinder</td>\n",
       "    </tr>\n",
       "  </tbody>\n",
       "</table>\n",
       "</div>"
      ],
      "text/plain": [
       "   product_id    quality_status manufacturer_name           manufacturer_pid  \\\n",
       "0   101050487  SPARROW_APPROVED               CKD  SCM-FA-20B-100-T3H3-D-Z-6   \n",
       "1   101050486  SPARROW_APPROVED               CKD  SCM-TA-25B-50-T3H3-D-B2-6   \n",
       "\n",
       "                       model short_description long_description  \\\n",
       "0  SCM-FA-20B-100-T3H3-D-Z-6      air cylinder              NaN   \n",
       "1  SCM-TA-25B-50-T3H3-D-B2-6      air cylinder              NaN   \n",
       "\n",
       "  additional_description      noun norm scope        site cleaned_noun  \\\n",
       "0                    NaN  cylinder  NaN    In  YA2Z Shiga     cylinder   \n",
       "1                    NaN  cylinder  NaN    In  YA2Z Shiga     cylinder   \n",
       "\n",
       "                category_noun matched_noun  \n",
       "0  Valves, Actuator, Fittings     cylinder  \n",
       "1  Valves, Actuator, Fittings     cylinder  "
      ]
     },
     "execution_count": 2,
     "metadata": {},
     "output_type": "execute_result"
    }
   ],
   "source": [
    "pickle_file_path = 'data/results/catalog_nouns_500k.pkl'\n",
    "catalog_fin = pd.read_pickle(pickle_file_path)\n",
    "catalog_fin.head(2)"
   ]
  },
  {
   "cell_type": "code",
   "execution_count": 3,
   "metadata": {},
   "outputs": [
    {
     "data": {
      "text/html": [
       "<div>\n",
       "<style scoped>\n",
       "    .dataframe tbody tr th:only-of-type {\n",
       "        vertical-align: middle;\n",
       "    }\n",
       "\n",
       "    .dataframe tbody tr th {\n",
       "        vertical-align: top;\n",
       "    }\n",
       "\n",
       "    .dataframe thead th {\n",
       "        text-align: right;\n",
       "    }\n",
       "</style>\n",
       "<table border=\"1\" class=\"dataframe\">\n",
       "  <thead>\n",
       "    <tr style=\"text-align: right;\">\n",
       "      <th></th>\n",
       "      <th>cleaned_noun</th>\n",
       "      <th>category_noun</th>\n",
       "    </tr>\n",
       "  </thead>\n",
       "  <tbody>\n",
       "    <tr>\n",
       "      <th>0</th>\n",
       "      <td>cylinder</td>\n",
       "      <td>Valves, Actuator, Fittings</td>\n",
       "    </tr>\n",
       "    <tr>\n",
       "      <th>1</th>\n",
       "      <td>cylinder</td>\n",
       "      <td>Valves, Actuator, Fittings</td>\n",
       "    </tr>\n",
       "    <tr>\n",
       "      <th>2</th>\n",
       "      <td>cylinder</td>\n",
       "      <td>Valves, Actuator, Fittings</td>\n",
       "    </tr>\n",
       "    <tr>\n",
       "      <th>3</th>\n",
       "      <td>cylinder</td>\n",
       "      <td>Valves, Actuator, Fittings</td>\n",
       "    </tr>\n",
       "    <tr>\n",
       "      <th>4</th>\n",
       "      <td>cylinder</td>\n",
       "      <td>Valves, Actuator, Fittings</td>\n",
       "    </tr>\n",
       "    <tr>\n",
       "      <th>...</th>\n",
       "      <td>...</td>\n",
       "      <td>...</td>\n",
       "    </tr>\n",
       "    <tr>\n",
       "      <th>481121</th>\n",
       "      <td>rodamiento</td>\n",
       "      <td>Fasteners</td>\n",
       "    </tr>\n",
       "    <tr>\n",
       "      <th>481122</th>\n",
       "      <td>rillenkugellager</td>\n",
       "      <td>Fasteners</td>\n",
       "    </tr>\n",
       "    <tr>\n",
       "      <th>481123</th>\n",
       "      <td>pendelkugellager</td>\n",
       "      <td>Fasteners</td>\n",
       "    </tr>\n",
       "    <tr>\n",
       "      <th>481124</th>\n",
       "      <td>rodamiento</td>\n",
       "      <td>Fasteners</td>\n",
       "    </tr>\n",
       "    <tr>\n",
       "      <th>481125</th>\n",
       "      <td>tarjeta</td>\n",
       "      <td>Electrical Installation Materials, device</td>\n",
       "    </tr>\n",
       "  </tbody>\n",
       "</table>\n",
       "<p>382819 rows × 2 columns</p>\n",
       "</div>"
      ],
      "text/plain": [
       "            cleaned_noun                              category_noun\n",
       "0               cylinder                 Valves, Actuator, Fittings\n",
       "1               cylinder                 Valves, Actuator, Fittings\n",
       "2               cylinder                 Valves, Actuator, Fittings\n",
       "3               cylinder                 Valves, Actuator, Fittings\n",
       "4               cylinder                 Valves, Actuator, Fittings\n",
       "...                  ...                                        ...\n",
       "481121        rodamiento                                  Fasteners\n",
       "481122  rillenkugellager                                  Fasteners\n",
       "481123  pendelkugellager                                  Fasteners\n",
       "481124        rodamiento                                  Fasteners\n",
       "481125           tarjeta  Electrical Installation Materials, device\n",
       "\n",
       "[382819 rows x 2 columns]"
      ]
     },
     "execution_count": 3,
     "metadata": {},
     "output_type": "execute_result"
    }
   ],
   "source": [
    "catalog_fin[['cleaned_noun', 'category_noun']]"
   ]
  },
  {
   "cell_type": "code",
   "execution_count": 4,
   "metadata": {},
   "outputs": [
    {
     "data": {
      "text/plain": [
       "(382819, 15)"
      ]
     },
     "execution_count": 4,
     "metadata": {},
     "output_type": "execute_result"
    }
   ],
   "source": [
    "catalog_fin.shape"
   ]
  },
  {
   "cell_type": "code",
   "execution_count": 5,
   "metadata": {},
   "outputs": [
    {
     "name": "stdout",
     "output_type": "stream",
     "text": [
      "Number of unique values in 'cleaned_noun': 38500\n"
     ]
    }
   ],
   "source": [
    "unique_values = catalog_fin['cleaned_noun'].nunique()\n",
    "print(f\"Number of unique values in 'cleaned_noun': {unique_values}\")"
   ]
  },
  {
   "cell_type": "code",
   "execution_count": 6,
   "metadata": {},
   "outputs": [
    {
     "name": "stdout",
     "output_type": "stream",
     "text": [
      "Number of NaN values in 'cleaned_noun': 0\n"
     ]
    }
   ],
   "source": [
    "nan_values = catalog_fin['cleaned_noun'].isna().sum()\n",
    "print(f\"Number of NaN values in 'cleaned_noun': {nan_values}\")"
   ]
  },
  {
   "cell_type": "code",
   "execution_count": 7,
   "metadata": {},
   "outputs": [
    {
     "data": {
      "text/html": [
       "<div>\n",
       "<style scoped>\n",
       "    .dataframe tbody tr th:only-of-type {\n",
       "        vertical-align: middle;\n",
       "    }\n",
       "\n",
       "    .dataframe tbody tr th {\n",
       "        vertical-align: top;\n",
       "    }\n",
       "\n",
       "    .dataframe thead th {\n",
       "        text-align: right;\n",
       "    }\n",
       "</style>\n",
       "<table border=\"1\" class=\"dataframe\">\n",
       "  <thead>\n",
       "    <tr style=\"text-align: right;\">\n",
       "      <th></th>\n",
       "      <th>product_id</th>\n",
       "      <th>quality_status</th>\n",
       "      <th>manufacturer_name</th>\n",
       "      <th>manufacturer_pid</th>\n",
       "      <th>model</th>\n",
       "      <th>short_description</th>\n",
       "      <th>long_description</th>\n",
       "      <th>additional_description</th>\n",
       "      <th>noun</th>\n",
       "      <th>norm</th>\n",
       "      <th>scope</th>\n",
       "      <th>site</th>\n",
       "      <th>cleaned_noun</th>\n",
       "      <th>category_noun</th>\n",
       "      <th>matched_noun</th>\n",
       "    </tr>\n",
       "  </thead>\n",
       "  <tbody>\n",
       "    <tr>\n",
       "      <th>8152</th>\n",
       "      <td>101042333</td>\n",
       "      <td>SPARROW_PROCESSING</td>\n",
       "      <td>NMS - Not Manufacturer Specific</td>\n",
       "      <td>3104-62-00</td>\n",
       "      <td>NaN</td>\n",
       "      <td>UNION TEE, 1/2 OD X 1/2 OD</td>\n",
       "      <td>NaN</td>\n",
       "      <td>NaN</td>\n",
       "      <td>TEE</td>\n",
       "      <td>NaN</td>\n",
       "      <td>In</td>\n",
       "      <td>J1CF Indianola</td>\n",
       "      <td>tee</td>\n",
       "      <td>None</td>\n",
       "      <td>None</td>\n",
       "    </tr>\n",
       "    <tr>\n",
       "      <th>8242</th>\n",
       "      <td>101042240</td>\n",
       "      <td>SPARROW_PROCESSING</td>\n",
       "      <td>Aurora Air Products, Inc.</td>\n",
       "      <td>3GD02</td>\n",
       "      <td>3GD02</td>\n",
       "      <td>TEE, 1/4 INCH SAE SWIVEL TEE WITH CORE DEPRESS...</td>\n",
       "      <td>NaN</td>\n",
       "      <td>NaN</td>\n",
       "      <td>TEE</td>\n",
       "      <td>NaN</td>\n",
       "      <td>In</td>\n",
       "      <td>J1CF Indianola</td>\n",
       "      <td>tee</td>\n",
       "      <td>None</td>\n",
       "      <td>None</td>\n",
       "    </tr>\n",
       "  </tbody>\n",
       "</table>\n",
       "</div>"
      ],
      "text/plain": [
       "      product_id      quality_status                manufacturer_name  \\\n",
       "8152   101042333  SPARROW_PROCESSING  NMS - Not Manufacturer Specific   \n",
       "8242   101042240  SPARROW_PROCESSING        Aurora Air Products, Inc.   \n",
       "\n",
       "     manufacturer_pid  model  \\\n",
       "8152       3104-62-00    NaN   \n",
       "8242            3GD02  3GD02   \n",
       "\n",
       "                                      short_description long_description  \\\n",
       "8152                         UNION TEE, 1/2 OD X 1/2 OD              NaN   \n",
       "8242  TEE, 1/4 INCH SAE SWIVEL TEE WITH CORE DEPRESS...              NaN   \n",
       "\n",
       "     additional_description noun norm scope            site cleaned_noun  \\\n",
       "8152                    NaN  TEE  NaN    In  J1CF Indianola          tee   \n",
       "8242                    NaN  TEE  NaN    In  J1CF Indianola          tee   \n",
       "\n",
       "     category_noun matched_noun  \n",
       "8152          None         None  \n",
       "8242          None         None  "
      ]
     },
     "execution_count": 7,
     "metadata": {},
     "output_type": "execute_result"
    }
   ],
   "source": [
    "catalog_fin[catalog_fin['cleaned_noun']=='tee'].head(2)"
   ]
  },
  {
   "cell_type": "code",
   "execution_count": 8,
   "metadata": {},
   "outputs": [],
   "source": [
    "catalog_fin['word_count'] = catalog_fin['noun'].apply(count_words)"
   ]
  },
  {
   "cell_type": "code",
   "execution_count": 9,
   "metadata": {},
   "outputs": [
    {
     "data": {
      "text/plain": [
       "count    382819.000000\n",
       "mean          1.132465\n",
       "std           0.414414\n",
       "min           1.000000\n",
       "25%           1.000000\n",
       "50%           1.000000\n",
       "75%           1.000000\n",
       "max           8.000000\n",
       "Name: word_count, dtype: float64"
      ]
     },
     "execution_count": 9,
     "metadata": {},
     "output_type": "execute_result"
    }
   ],
   "source": [
    "catalog_fin.word_count.describe()"
   ]
  },
  {
   "cell_type": "code",
   "execution_count": 10,
   "metadata": {},
   "outputs": [
    {
     "data": {
      "text/plain": [
       "word_count\n",
       "1    341033\n",
       "2     34448\n",
       "3      6048\n",
       "4      1047\n",
       "5       204\n",
       "6        28\n",
       "7         8\n",
       "8         3\n",
       "Name: count, dtype: int64"
      ]
     },
     "execution_count": 10,
     "metadata": {},
     "output_type": "execute_result"
    }
   ],
   "source": [
    "catalog_fin.word_count.value_counts()"
   ]
  },
  {
   "cell_type": "code",
   "execution_count": 11,
   "metadata": {},
   "outputs": [],
   "source": [
    "# catalog_short = catalog_fin[catalog_fin['word_count'].isin([1, 8])]\n",
    "# catalog_short.shape"
   ]
  },
  {
   "cell_type": "code",
   "execution_count": 12,
   "metadata": {},
   "outputs": [],
   "source": [
    "# catalog_short=catalog_fin"
   ]
  },
  {
   "cell_type": "markdown",
   "metadata": {},
   "source": [
    "Most of the records in noun column have just one word. In our case let's first take 1 and 2 words cases"
   ]
  },
  {
   "cell_type": "code",
   "execution_count": 13,
   "metadata": {},
   "outputs": [
    {
     "data": {
      "text/plain": [
       "category_noun\n",
       "Fasteners                                    130127\n",
       "Electrical Installation Materials, device     45340\n",
       "Valves, Actuator, Fittings                    36984\n",
       "Gas, water and sewage installation            26040\n",
       "Piping Materials                              20184\n",
       "Facility consumables                          10907\n",
       "Equipment OEM Spare Parts                      5170\n",
       "Name: count, dtype: int64"
      ]
     },
     "execution_count": 13,
     "metadata": {},
     "output_type": "execute_result"
    }
   ],
   "source": [
    "catalog_fin['category_noun'].value_counts()"
   ]
  },
  {
   "cell_type": "code",
   "execution_count": 14,
   "metadata": {},
   "outputs": [],
   "source": [
    "# List of categories with matched and matched nouns\n",
    "categories_to_filter = [\"Fasteners\", \"Gas, water and sewage installation\", \"Electrical Installation Materials, device\", \"Piping Materials\", \n",
    "                        \"Valves, Actuator, Fittings\", \"Facility consumables\", \"Equipment OEM Spare Parts\"]\n",
    "\n",
    "filtered_df_noun = catalog_fin[catalog_fin['category_noun'].isin(categories_to_filter)]\n",
    "filtered_df_noun = filtered_df_noun[['cleaned_noun', 'category_noun']]\n",
    "non_matched_df = catalog_fin[~catalog_fin['category_noun'].isin(categories_to_filter)]"
   ]
  },
  {
   "cell_type": "code",
   "execution_count": 15,
   "metadata": {},
   "outputs": [],
   "source": [
    "# non_matched_df.to_pickle('data/results/non_matched_nouns.pkl')"
   ]
  },
  {
   "cell_type": "code",
   "execution_count": 16,
   "metadata": {},
   "outputs": [
    {
     "name": "stdout",
     "output_type": "stream",
     "text": [
      "(274752, 2)\n",
      "(382819, 16)\n",
      "Percentage = 71.77%\n"
     ]
    }
   ],
   "source": [
    "print(filtered_df_noun.shape)\n",
    "print(catalog_fin.shape)\n",
    "percentage = (filtered_df_noun.shape[0] / catalog_fin.shape[0]) * 100\n",
    "print(f'Percentage = {percentage:.2f}%')"
   ]
  },
  {
   "cell_type": "code",
   "execution_count": 17,
   "metadata": {},
   "outputs": [
    {
     "data": {
      "text/plain": [
       "count     274752\n",
       "unique     14256\n",
       "top        oring\n",
       "freq       11607\n",
       "Name: cleaned_noun, dtype: object"
      ]
     },
     "execution_count": 17,
     "metadata": {},
     "output_type": "execute_result"
    }
   ],
   "source": [
    "filtered_df_noun.cleaned_noun.describe()"
   ]
  },
  {
   "cell_type": "code",
   "execution_count": 18,
   "metadata": {},
   "outputs": [],
   "source": [
    "# filtered_df_noun.to_pickle('results\\matched_values.pkl')"
   ]
  },
  {
   "cell_type": "markdown",
   "metadata": {},
   "source": [
    "## 2) Build the model"
   ]
  },
  {
   "cell_type": "markdown",
   "metadata": {},
   "source": [
    "### 2.1) Tfidf and Logistic Regression model"
   ]
  },
  {
   "cell_type": "code",
   "execution_count": 66,
   "metadata": {},
   "outputs": [
    {
     "name": "stdout",
     "output_type": "stream",
     "text": [
      "                                           precision    recall  f1-score   support\n",
      "\n",
      "Electrical Installation Materials, device       1.00      0.98      0.99      6834\n",
      "                Equipment OEM Spare Parts       0.98      0.98      0.98       765\n",
      "                     Facility consumables       1.00      0.97      0.98      1677\n",
      "                                Fasteners       0.99      1.00      0.99     19434\n",
      "       Gas, water and sewage installation       1.00      0.99      0.99      3893\n",
      "                         Piping Materials       1.00      0.99      1.00      3033\n",
      "               Valves, Actuator, Fittings       1.00      0.99      1.00      5577\n",
      "\n",
      "                                 accuracy                           0.99     41213\n",
      "                                macro avg       0.99      0.99      0.99     41213\n",
      "                             weighted avg       0.99      0.99      0.99     41213\n",
      "\n"
     ]
    }
   ],
   "source": [
    "# filtered_df['cleaned_noun'] = filtered_df['cleaned_noun'].str.lower()\n",
    "X = filtered_df_noun['cleaned_noun']  # Features (cleaned nouns)\n",
    "y = filtered_df_noun['category_noun']  # Labels (categories)\n",
    "X_train, X_test, y_train, y_test = train_test_split(X, y, test_size=0.15, random_state=42)\n",
    "\n",
    "model = make_pipeline(TfidfVectorizer(stop_words='english', max_features=5000, ngram_range=(1, 2), min_df=2, max_df=0.95), LogisticRegression(max_iter=1000))    # Pipeline\n",
    "model.fit(X_train, y_train)\n",
    "\n",
    "y_pred = model.predict(X_test)  # Evaluate\n",
    "print(classification_report(y_test, y_pred))"
   ]
  },
  {
   "cell_type": "markdown",
   "metadata": {},
   "source": [
    "Save the models"
   ]
  },
  {
   "cell_type": "code",
   "execution_count": 69,
   "metadata": {},
   "outputs": [
    {
     "data": {
      "text/plain": [
       "['models/text_classification_model_full_catalog.joblib']"
      ]
     },
     "execution_count": 69,
     "metadata": {},
     "output_type": "execute_result"
    }
   ],
   "source": [
    "joblib.dump(model, 'models/text_classification_model_full_catalog.joblib')"
   ]
  },
  {
   "cell_type": "markdown",
   "metadata": {},
   "source": [
    "Explaining the model. Obtaining coefficients for most important words"
   ]
  },
  {
   "cell_type": "code",
   "execution_count": 70,
   "metadata": {},
   "outputs": [
    {
     "data": {
      "image/png": "[encoded data removed]",
      "text/plain": [
       "<Figure size 500x200 with 1 Axes>"
      ]
     },
     "metadata": {},
     "output_type": "display_data"
    },
    {
     "data": {
      "image/png": "[encoded data removed]",
      "text/plain": [
       "<Figure size 500x200 with 1 Axes>"
      ]
     },
     "metadata": {},
     "output_type": "display_data"
    },
    {
     "data": {
      "image/png": "[encoded data removed]",
      "text/plain": [
       "<Figure size 500x200 with 1 Axes>"
      ]
     },
     "metadata": {},
     "output_type": "display_data"
    },
    {
     "data": {
      "image/png": "[encoded data removed]",
      "text/plain": [
       "<Figure size 500x200 with 1 Axes>"
      ]
     },
     "metadata": {},
     "output_type": "display_data"
    },
    {
     "data": {
      "image/png": "[encoded data removed]",
      "text/plain": [
       "<Figure size 500x200 with 1 Axes>"
      ]
     },
     "metadata": {},
     "output_type": "display_data"
    },
    {
     "data": {
      "image/png": "[encoded data removed]",
      "text/plain": [
       "<Figure size 500x200 with 1 Axes>"
      ]
     },
     "metadata": {},
     "output_type": "display_data"
    },
    {
     "data": {
      "image/png": "[encoded data removed]",
      "text/plain": [
       "<Figure size 500x200 with 1 Axes>"
      ]
     },
     "metadata": {},
     "output_type": "display_data"
    }
   ],
   "source": [
    "vectorizer = model.named_steps['tfidfvectorizer']\n",
    "log_reg = model.named_steps['logisticregression']\n",
    "feature_names = np.array(vectorizer.get_feature_names_out())\n",
    "coefficients = log_reg.coef_\n",
    "\n",
    "# We sort the words by its coefficients inside every category\n",
    "for i, category in enumerate(log_reg.classes_):\n",
    "    sorted_indices = coefficients[i].argsort()\n",
    "    \n",
    "    top_words = feature_names[sorted_indices[-10:]]    # 10 most important words\n",
    "    top_coeffs = coefficients[i][sorted_indices[-10:]]\n",
    "    \n",
    "    plt.figure(figsize=(5, 2))\n",
    "    plt.barh(top_words, top_coeffs, color='orange')\n",
    "    plt.xlabel('Coefficient Value')\n",
    "    plt.title(f'Top 10 Words for Category: {category}')\n",
    "    plt.gca().invert_yaxis() \n",
    "    plt.show()"
   ]
  },
  {
   "cell_type": "markdown",
   "metadata": {},
   "source": [
    "Plotting results for the test dataset"
   ]
  },
  {
   "cell_type": "code",
   "execution_count": 71,
   "metadata": {},
   "outputs": [
    {
     "data": {
      "text/plain": [
       "347020             filter\n",
       "29901              gasket\n",
       "405840    wellendichtring\n",
       "308164              oring\n",
       "217051               pipe\n",
       "               ...       \n",
       "212495            bushing\n",
       "335522          indicator\n",
       "371074            adapter\n",
       "193726            breaker\n",
       "476410            valvula\n",
       "Name: cleaned_noun, Length: 41213, dtype: object"
      ]
     },
     "execution_count": 71,
     "metadata": {},
     "output_type": "execute_result"
    }
   ],
   "source": [
    "X_test"
   ]
  },
  {
   "cell_type": "markdown",
   "metadata": {},
   "source": [
    "#### Run for the test dataset"
   ]
  },
  {
   "cell_type": "code",
   "execution_count": 72,
   "metadata": {},
   "outputs": [],
   "source": [
    "# Apply it to the test dataset\n",
    "probabilities = model.predict_proba(X_test)\n",
    "probabilities_df = pd.DataFrame(probabilities, columns=model.classes_)\n",
    "probabilities_df = probabilities_df.round(2)\n",
    "# probabilities_df['cleaned_noun'] = X_test\n",
    "probabilities_df['max_probability'] = probabilities_df.max(axis=1)\n",
    "probabilities_df['predicted_category'] = probabilities_df.idxmax(axis=1)\n",
    "probabilities_df['cleaned_noun']= X_test.values"
   ]
  },
  {
   "cell_type": "code",
   "execution_count": 73,
   "metadata": {},
   "outputs": [
    {
     "data": {
      "text/html": [
       "<div>\n",
       "<style scoped>\n",
       "    .dataframe tbody tr th:only-of-type {\n",
       "        vertical-align: middle;\n",
       "    }\n",
       "\n",
       "    .dataframe tbody tr th {\n",
       "        vertical-align: top;\n",
       "    }\n",
       "\n",
       "    .dataframe thead th {\n",
       "        text-align: right;\n",
       "    }\n",
       "</style>\n",
       "<table border=\"1\" class=\"dataframe\">\n",
       "  <thead>\n",
       "    <tr style=\"text-align: right;\">\n",
       "      <th></th>\n",
       "      <th>Electrical Installation Materials, device</th>\n",
       "      <th>Equipment OEM Spare Parts</th>\n",
       "      <th>Facility consumables</th>\n",
       "      <th>Fasteners</th>\n",
       "      <th>Gas, water and sewage installation</th>\n",
       "      <th>Piping Materials</th>\n",
       "      <th>Valves, Actuator, Fittings</th>\n",
       "      <th>max_probability</th>\n",
       "      <th>predicted_category</th>\n",
       "      <th>cleaned_noun</th>\n",
       "    </tr>\n",
       "  </thead>\n",
       "  <tbody>\n",
       "    <tr>\n",
       "      <th>21377</th>\n",
       "      <td>0.22</td>\n",
       "      <td>0.10</td>\n",
       "      <td>0.07</td>\n",
       "      <td>0.18</td>\n",
       "      <td>0.17</td>\n",
       "      <td>0.05</td>\n",
       "      <td>0.20</td>\n",
       "      <td>0.22</td>\n",
       "      <td>Electrical Installation Materials, device</td>\n",
       "      <td>air maintenance unit</td>\n",
       "    </tr>\n",
       "    <tr>\n",
       "      <th>3943</th>\n",
       "      <td>0.24</td>\n",
       "      <td>0.18</td>\n",
       "      <td>0.08</td>\n",
       "      <td>0.24</td>\n",
       "      <td>0.10</td>\n",
       "      <td>0.04</td>\n",
       "      <td>0.11</td>\n",
       "      <td>0.24</td>\n",
       "      <td>Electrical Installation Materials, device</td>\n",
       "      <td>dichtungsset</td>\n",
       "    </tr>\n",
       "    <tr>\n",
       "      <th>31704</th>\n",
       "      <td>0.21</td>\n",
       "      <td>0.02</td>\n",
       "      <td>0.07</td>\n",
       "      <td>0.22</td>\n",
       "      <td>0.09</td>\n",
       "      <td>0.28</td>\n",
       "      <td>0.10</td>\n",
       "      <td>0.28</td>\n",
       "      <td>Piping Materials</td>\n",
       "      <td>spaltrohr</td>\n",
       "    </tr>\n",
       "    <tr>\n",
       "      <th>24352</th>\n",
       "      <td>0.21</td>\n",
       "      <td>0.02</td>\n",
       "      <td>0.07</td>\n",
       "      <td>0.22</td>\n",
       "      <td>0.09</td>\n",
       "      <td>0.28</td>\n",
       "      <td>0.10</td>\n",
       "      <td>0.28</td>\n",
       "      <td>Piping Materials</td>\n",
       "      <td>rückströmsicherung</td>\n",
       "    </tr>\n",
       "    <tr>\n",
       "      <th>5231</th>\n",
       "      <td>0.21</td>\n",
       "      <td>0.02</td>\n",
       "      <td>0.07</td>\n",
       "      <td>0.22</td>\n",
       "      <td>0.09</td>\n",
       "      <td>0.28</td>\n",
       "      <td>0.10</td>\n",
       "      <td>0.28</td>\n",
       "      <td>Piping Materials</td>\n",
       "      <td>spaltrohr</td>\n",
       "    </tr>\n",
       "    <tr>\n",
       "      <th>...</th>\n",
       "      <td>...</td>\n",
       "      <td>...</td>\n",
       "      <td>...</td>\n",
       "      <td>...</td>\n",
       "      <td>...</td>\n",
       "      <td>...</td>\n",
       "      <td>...</td>\n",
       "      <td>...</td>\n",
       "      <td>...</td>\n",
       "      <td>...</td>\n",
       "    </tr>\n",
       "    <tr>\n",
       "      <th>18809</th>\n",
       "      <td>0.00</td>\n",
       "      <td>0.00</td>\n",
       "      <td>0.00</td>\n",
       "      <td>1.00</td>\n",
       "      <td>0.00</td>\n",
       "      <td>0.00</td>\n",
       "      <td>0.00</td>\n",
       "      <td>1.00</td>\n",
       "      <td>Fasteners</td>\n",
       "      <td>shaft</td>\n",
       "    </tr>\n",
       "    <tr>\n",
       "      <th>18807</th>\n",
       "      <td>0.00</td>\n",
       "      <td>0.00</td>\n",
       "      <td>0.00</td>\n",
       "      <td>1.00</td>\n",
       "      <td>0.00</td>\n",
       "      <td>0.00</td>\n",
       "      <td>0.00</td>\n",
       "      <td>1.00</td>\n",
       "      <td>Fasteners</td>\n",
       "      <td>adapter</td>\n",
       "    </tr>\n",
       "    <tr>\n",
       "      <th>18805</th>\n",
       "      <td>0.00</td>\n",
       "      <td>0.00</td>\n",
       "      <td>0.00</td>\n",
       "      <td>1.00</td>\n",
       "      <td>0.00</td>\n",
       "      <td>0.00</td>\n",
       "      <td>0.00</td>\n",
       "      <td>1.00</td>\n",
       "      <td>Fasteners</td>\n",
       "      <td>oring</td>\n",
       "    </tr>\n",
       "    <tr>\n",
       "      <th>18823</th>\n",
       "      <td>0.00</td>\n",
       "      <td>0.00</td>\n",
       "      <td>0.00</td>\n",
       "      <td>1.00</td>\n",
       "      <td>0.00</td>\n",
       "      <td>0.00</td>\n",
       "      <td>0.00</td>\n",
       "      <td>1.00</td>\n",
       "      <td>Fasteners</td>\n",
       "      <td>disc</td>\n",
       "    </tr>\n",
       "    <tr>\n",
       "      <th>20606</th>\n",
       "      <td>0.00</td>\n",
       "      <td>0.00</td>\n",
       "      <td>0.00</td>\n",
       "      <td>1.00</td>\n",
       "      <td>0.00</td>\n",
       "      <td>0.00</td>\n",
       "      <td>0.00</td>\n",
       "      <td>1.00</td>\n",
       "      <td>Fasteners</td>\n",
       "      <td>flange</td>\n",
       "    </tr>\n",
       "  </tbody>\n",
       "</table>\n",
       "<p>41213 rows × 10 columns</p>\n",
       "</div>"
      ],
      "text/plain": [
       "       Electrical Installation Materials, device  Equipment OEM Spare Parts  \\\n",
       "21377                                       0.22                       0.10   \n",
       "3943                                        0.24                       0.18   \n",
       "31704                                       0.21                       0.02   \n",
       "24352                                       0.21                       0.02   \n",
       "5231                                        0.21                       0.02   \n",
       "...                                          ...                        ...   \n",
       "18809                                       0.00                       0.00   \n",
       "18807                                       0.00                       0.00   \n",
       "18805                                       0.00                       0.00   \n",
       "18823                                       0.00                       0.00   \n",
       "20606                                       0.00                       0.00   \n",
       "\n",
       "       Facility consumables  Fasteners  Gas, water and sewage installation  \\\n",
       "21377                  0.07       0.18                                0.17   \n",
       "3943                   0.08       0.24                                0.10   \n",
       "31704                  0.07       0.22                                0.09   \n",
       "24352                  0.07       0.22                                0.09   \n",
       "5231                   0.07       0.22                                0.09   \n",
       "...                     ...        ...                                 ...   \n",
       "18809                  0.00       1.00                                0.00   \n",
       "18807                  0.00       1.00                                0.00   \n",
       "18805                  0.00       1.00                                0.00   \n",
       "18823                  0.00       1.00                                0.00   \n",
       "20606                  0.00       1.00                                0.00   \n",
       "\n",
       "       Piping Materials  Valves, Actuator, Fittings  max_probability  \\\n",
       "21377              0.05                        0.20             0.22   \n",
       "3943               0.04                        0.11             0.24   \n",
       "31704              0.28                        0.10             0.28   \n",
       "24352              0.28                        0.10             0.28   \n",
       "5231               0.28                        0.10             0.28   \n",
       "...                 ...                         ...              ...   \n",
       "18809              0.00                        0.00             1.00   \n",
       "18807              0.00                        0.00             1.00   \n",
       "18805              0.00                        0.00             1.00   \n",
       "18823              0.00                        0.00             1.00   \n",
       "20606              0.00                        0.00             1.00   \n",
       "\n",
       "                              predicted_category          cleaned_noun  \n",
       "21377  Electrical Installation Materials, device  air maintenance unit  \n",
       "3943   Electrical Installation Materials, device          dichtungsset  \n",
       "31704                           Piping Materials             spaltrohr  \n",
       "24352                           Piping Materials    rückströmsicherung  \n",
       "5231                            Piping Materials             spaltrohr  \n",
       "...                                          ...                   ...  \n",
       "18809                                  Fasteners                 shaft  \n",
       "18807                                  Fasteners               adapter  \n",
       "18805                                  Fasteners                 oring  \n",
       "18823                                  Fasteners                  disc  \n",
       "20606                                  Fasteners                flange  \n",
       "\n",
       "[41213 rows x 10 columns]"
      ]
     },
     "execution_count": 73,
     "metadata": {},
     "output_type": "execute_result"
    }
   ],
   "source": [
    "probabilities_df.sort_values(by='max_probability', ascending=True)"
   ]
  },
  {
   "cell_type": "code",
   "execution_count": 74,
   "metadata": {},
   "outputs": [
    {
     "data": {
      "text/plain": [
       "count    41213.000000\n",
       "mean         0.966462\n",
       "std          0.083062\n",
       "min          0.220000\n",
       "25%          0.980000\n",
       "50%          0.990000\n",
       "75%          1.000000\n",
       "max          1.000000\n",
       "Name: max_probability, dtype: float64"
      ]
     },
     "execution_count": 74,
     "metadata": {},
     "output_type": "execute_result"
    }
   ],
   "source": [
    "probabilities_df.max_probability.describe()"
   ]
  },
  {
   "cell_type": "markdown",
   "metadata": {},
   "source": [
    "#### Run for unmatched values"
   ]
  },
  {
   "cell_type": "code",
   "execution_count": 75,
   "metadata": {},
   "outputs": [],
   "source": [
    "# Apply it to the unmatched values\n",
    "loaded_model = joblib.load('models/text_classification_model_full_catalog.joblib')\n",
    "new_data = non_matched_df['cleaned_noun'].tolist()  # Replace with your actual new data\n",
    "probabilities = loaded_model.predict_proba(new_data)\n",
    "probabilities_df = pd.DataFrame(probabilities, columns=loaded_model.classes_)\n",
    "probabilities_df = probabilities_df.round(2)\n",
    "probabilities_df['max_probability'] = probabilities_df.max(axis=1)\n",
    "probabilities_df['predicted_category'] = probabilities_df.idxmax(axis=1)\n",
    "probabilities_df['cleaned_noun'] = new_data"
   ]
  },
  {
   "cell_type": "code",
   "execution_count": 76,
   "metadata": {},
   "outputs": [
    {
     "data": {
      "text/html": [
       "<div>\n",
       "<style scoped>\n",
       "    .dataframe tbody tr th:only-of-type {\n",
       "        vertical-align: middle;\n",
       "    }\n",
       "\n",
       "    .dataframe tbody tr th {\n",
       "        vertical-align: top;\n",
       "    }\n",
       "\n",
       "    .dataframe thead th {\n",
       "        text-align: right;\n",
       "    }\n",
       "</style>\n",
       "<table border=\"1\" class=\"dataframe\">\n",
       "  <thead>\n",
       "    <tr style=\"text-align: right;\">\n",
       "      <th></th>\n",
       "      <th>Electrical Installation Materials, device</th>\n",
       "      <th>Equipment OEM Spare Parts</th>\n",
       "      <th>Facility consumables</th>\n",
       "      <th>Fasteners</th>\n",
       "      <th>Gas, water and sewage installation</th>\n",
       "      <th>Piping Materials</th>\n",
       "      <th>Valves, Actuator, Fittings</th>\n",
       "      <th>max_probability</th>\n",
       "      <th>predicted_category</th>\n",
       "      <th>cleaned_noun</th>\n",
       "    </tr>\n",
       "  </thead>\n",
       "  <tbody>\n",
       "    <tr>\n",
       "      <th>0</th>\n",
       "      <td>0.33</td>\n",
       "      <td>0.02</td>\n",
       "      <td>0.07</td>\n",
       "      <td>0.35</td>\n",
       "      <td>0.09</td>\n",
       "      <td>0.03</td>\n",
       "      <td>0.11</td>\n",
       "      <td>0.35</td>\n",
       "      <td>Fasteners</td>\n",
       "      <td>höinrodd</td>\n",
       "    </tr>\n",
       "    <tr>\n",
       "      <th>1</th>\n",
       "      <td>0.33</td>\n",
       "      <td>0.02</td>\n",
       "      <td>0.07</td>\n",
       "      <td>0.35</td>\n",
       "      <td>0.09</td>\n",
       "      <td>0.03</td>\n",
       "      <td>0.11</td>\n",
       "      <td>0.35</td>\n",
       "      <td>Fasteners</td>\n",
       "      <td>スüßbürz</td>\n",
       "    </tr>\n",
       "    <tr>\n",
       "      <th>2</th>\n",
       "      <td>0.33</td>\n",
       "      <td>0.02</td>\n",
       "      <td>0.07</td>\n",
       "      <td>0.35</td>\n",
       "      <td>0.09</td>\n",
       "      <td>0.03</td>\n",
       "      <td>0.11</td>\n",
       "      <td>0.35</td>\n",
       "      <td>Fasteners</td>\n",
       "      <td>スüßbürz</td>\n",
       "    </tr>\n",
       "    <tr>\n",
       "      <th>3</th>\n",
       "      <td>0.33</td>\n",
       "      <td>0.02</td>\n",
       "      <td>0.07</td>\n",
       "      <td>0.35</td>\n",
       "      <td>0.09</td>\n",
       "      <td>0.03</td>\n",
       "      <td>0.11</td>\n",
       "      <td>0.35</td>\n",
       "      <td>Fasteners</td>\n",
       "      <td>スüßbema</td>\n",
       "    </tr>\n",
       "    <tr>\n",
       "      <th>4</th>\n",
       "      <td>0.33</td>\n",
       "      <td>0.02</td>\n",
       "      <td>0.07</td>\n",
       "      <td>0.35</td>\n",
       "      <td>0.09</td>\n",
       "      <td>0.03</td>\n",
       "      <td>0.11</td>\n",
       "      <td>0.35</td>\n",
       "      <td>Fasteners</td>\n",
       "      <td>белрт</td>\n",
       "    </tr>\n",
       "    <tr>\n",
       "      <th>...</th>\n",
       "      <td>...</td>\n",
       "      <td>...</td>\n",
       "      <td>...</td>\n",
       "      <td>...</td>\n",
       "      <td>...</td>\n",
       "      <td>...</td>\n",
       "      <td>...</td>\n",
       "      <td>...</td>\n",
       "      <td>...</td>\n",
       "      <td>...</td>\n",
       "    </tr>\n",
       "    <tr>\n",
       "      <th>108062</th>\n",
       "      <td>0.33</td>\n",
       "      <td>0.02</td>\n",
       "      <td>0.07</td>\n",
       "      <td>0.35</td>\n",
       "      <td>0.09</td>\n",
       "      <td>0.03</td>\n",
       "      <td>0.11</td>\n",
       "      <td>0.35</td>\n",
       "      <td>Fasteners</td>\n",
       "      <td>carrilera</td>\n",
       "    </tr>\n",
       "    <tr>\n",
       "      <th>108063</th>\n",
       "      <td>0.33</td>\n",
       "      <td>0.02</td>\n",
       "      <td>0.07</td>\n",
       "      <td>0.35</td>\n",
       "      <td>0.09</td>\n",
       "      <td>0.03</td>\n",
       "      <td>0.11</td>\n",
       "      <td>0.35</td>\n",
       "      <td>Fasteners</td>\n",
       "      <td>tapas</td>\n",
       "    </tr>\n",
       "    <tr>\n",
       "      <th>108064</th>\n",
       "      <td>0.33</td>\n",
       "      <td>0.02</td>\n",
       "      <td>0.07</td>\n",
       "      <td>0.35</td>\n",
       "      <td>0.09</td>\n",
       "      <td>0.03</td>\n",
       "      <td>0.11</td>\n",
       "      <td>0.35</td>\n",
       "      <td>Fasteners</td>\n",
       "      <td>columna</td>\n",
       "    </tr>\n",
       "    <tr>\n",
       "      <th>108065</th>\n",
       "      <td>0.33</td>\n",
       "      <td>0.02</td>\n",
       "      <td>0.07</td>\n",
       "      <td>0.35</td>\n",
       "      <td>0.09</td>\n",
       "      <td>0.03</td>\n",
       "      <td>0.11</td>\n",
       "      <td>0.35</td>\n",
       "      <td>Fasteners</td>\n",
       "      <td>rollo</td>\n",
       "    </tr>\n",
       "    <tr>\n",
       "      <th>108066</th>\n",
       "      <td>0.33</td>\n",
       "      <td>0.02</td>\n",
       "      <td>0.07</td>\n",
       "      <td>0.35</td>\n",
       "      <td>0.09</td>\n",
       "      <td>0.03</td>\n",
       "      <td>0.11</td>\n",
       "      <td>0.35</td>\n",
       "      <td>Fasteners</td>\n",
       "      <td>cierre</td>\n",
       "    </tr>\n",
       "  </tbody>\n",
       "</table>\n",
       "<p>108067 rows × 10 columns</p>\n",
       "</div>"
      ],
      "text/plain": [
       "        Electrical Installation Materials, device  Equipment OEM Spare Parts  \\\n",
       "0                                            0.33                       0.02   \n",
       "1                                            0.33                       0.02   \n",
       "2                                            0.33                       0.02   \n",
       "3                                            0.33                       0.02   \n",
       "4                                            0.33                       0.02   \n",
       "...                                           ...                        ...   \n",
       "108062                                       0.33                       0.02   \n",
       "108063                                       0.33                       0.02   \n",
       "108064                                       0.33                       0.02   \n",
       "108065                                       0.33                       0.02   \n",
       "108066                                       0.33                       0.02   \n",
       "\n",
       "        Facility consumables  Fasteners  Gas, water and sewage installation  \\\n",
       "0                       0.07       0.35                                0.09   \n",
       "1                       0.07       0.35                                0.09   \n",
       "2                       0.07       0.35                                0.09   \n",
       "3                       0.07       0.35                                0.09   \n",
       "4                       0.07       0.35                                0.09   \n",
       "...                      ...        ...                                 ...   \n",
       "108062                  0.07       0.35                                0.09   \n",
       "108063                  0.07       0.35                                0.09   \n",
       "108064                  0.07       0.35                                0.09   \n",
       "108065                  0.07       0.35                                0.09   \n",
       "108066                  0.07       0.35                                0.09   \n",
       "\n",
       "        Piping Materials  Valves, Actuator, Fittings  max_probability  \\\n",
       "0                   0.03                        0.11             0.35   \n",
       "1                   0.03                        0.11             0.35   \n",
       "2                   0.03                        0.11             0.35   \n",
       "3                   0.03                        0.11             0.35   \n",
       "4                   0.03                        0.11             0.35   \n",
       "...                  ...                         ...              ...   \n",
       "108062              0.03                        0.11             0.35   \n",
       "108063              0.03                        0.11             0.35   \n",
       "108064              0.03                        0.11             0.35   \n",
       "108065              0.03                        0.11             0.35   \n",
       "108066              0.03                        0.11             0.35   \n",
       "\n",
       "       predicted_category cleaned_noun  \n",
       "0               Fasteners     höinrodd  \n",
       "1               Fasteners      スüßbürz  \n",
       "2               Fasteners      スüßbürz  \n",
       "3               Fasteners      スüßbema  \n",
       "4               Fasteners        белрт  \n",
       "...                   ...          ...  \n",
       "108062          Fasteners    carrilera  \n",
       "108063          Fasteners        tapas  \n",
       "108064          Fasteners      columna  \n",
       "108065          Fasteners        rollo  \n",
       "108066          Fasteners       cierre  \n",
       "\n",
       "[108067 rows x 10 columns]"
      ]
     },
     "execution_count": 76,
     "metadata": {},
     "output_type": "execute_result"
    }
   ],
   "source": [
    "probabilities_df"
   ]
  },
  {
   "cell_type": "code",
   "execution_count": 77,
   "metadata": {},
   "outputs": [
    {
     "data": {
      "text/plain": [
       "count    108067.000000\n",
       "mean          0.371746\n",
       "std           0.070638\n",
       "min           0.210000\n",
       "25%           0.350000\n",
       "50%           0.350000\n",
       "75%           0.350000\n",
       "max           0.890000\n",
       "Name: max_probability, dtype: float64"
      ]
     },
     "execution_count": 77,
     "metadata": {},
     "output_type": "execute_result"
    }
   ],
   "source": [
    "probabilities_df.max_probability.describe()  # Very low values for the maximum probability"
   ]
  },
  {
   "cell_type": "code",
   "execution_count": 78,
   "metadata": {},
   "outputs": [
    {
     "data": {
      "text/plain": [
       "predicted_category\n",
       "Fasteners                                    97240\n",
       "Electrical Installation Materials, device     8969\n",
       "Gas, water and sewage installation            1444\n",
       "Valves, Actuator, Fittings                     352\n",
       "Facility consumables                            31\n",
       "Piping Materials                                31\n",
       "Name: count, dtype: int64"
      ]
     },
     "execution_count": 78,
     "metadata": {},
     "output_type": "execute_result"
    }
   ],
   "source": [
    "probabilities_df.predicted_category.value_counts()  # Very low values for the maximum probability"
   ]
  },
  {
   "cell_type": "code",
   "execution_count": 79,
   "metadata": {},
   "outputs": [
    {
     "name": "stdout",
     "output_type": "stream",
     "text": [
      "Number of NaN values in 'cleaned_noun': 0\n"
     ]
    }
   ],
   "source": [
    "# Check the number of NaN values in the 'cleaned_noun' column\n",
    "nan_values = non_matched_df['cleaned_noun'].isna().sum()\n",
    "print(f\"Number of NaN values in 'cleaned_noun': {nan_values}\")"
   ]
  },
  {
   "cell_type": "markdown",
   "metadata": {},
   "source": [
    "#### Save 100 most common nouns from the unmatched values"
   ]
  },
  {
   "cell_type": "code",
   "execution_count": 80,
   "metadata": {},
   "outputs": [
    {
     "data": {
      "text/plain": [
       "cleaned_noun\n",
       "tee              2265\n",
       "assembly         1839\n",
       "plug             1469\n",
       "cover            1290\n",
       "board             783\n",
       "bar               716\n",
       "element           701\n",
       "rod               633\n",
       "insert            484\n",
       "stud              441\n",
       "tstück            401\n",
       "panel             385\n",
       "tape              382\n",
       "wire              377\n",
       "vflansch          375\n",
       "gummi             364\n",
       "cross             361\n",
       "holder            354\n",
       "coil              352\n",
       "body              351\n",
       "xmtr              342\n",
       "dichtungclamp     341\n",
       "parafuso          340\n",
       "bag               332\n",
       "box               332\n",
       "head              325\n",
       "anel              312\n",
       "strainer          312\n",
       "face              299\n",
       "glass             247\n",
       "Name: count, dtype: int64"
      ]
     },
     "execution_count": 80,
     "metadata": {},
     "output_type": "execute_result"
    }
   ],
   "source": [
    "probabilities_df.cleaned_noun.value_counts().head(30)"
   ]
  },
  {
   "cell_type": "code",
   "execution_count": 81,
   "metadata": {},
   "outputs": [],
   "source": [
    "# Most common nouns and export it to Excel\n",
    "top_100_nouns = probabilities_df['cleaned_noun'].value_counts().head(100)\n",
    "top_100_nouns_df = top_100_nouns.reset_index()\n",
    "top_100_nouns_df.columns = ['noun', 'count']  # Rename columns for clarity\n",
    "# top_100_nouns_df.to_excel('top_100_nouns.xlsx', index=False)"
   ]
  },
  {
   "cell_type": "markdown",
   "metadata": {},
   "source": [
    "#### Run for Adams 1k parts"
   ]
  },
  {
   "cell_type": "code",
   "execution_count": 82,
   "metadata": {},
   "outputs": [],
   "source": [
    "df_mil=pd.read_csv('data/1k_Parts/BAYER_mat_group_flags_20241206_1k‑verified_20241210.csv')\n",
    "df_mil = df_mil.dropna(subset=['noun'])  # Some NaN values at the end\n",
    "df_mil['cleaned_noun'] = df_mil['noun'].apply(clean_category_text)"
   ]
  },
  {
   "cell_type": "code",
   "execution_count": 83,
   "metadata": {},
   "outputs": [
    {
     "data": {
      "text/plain": [
       "qa_label\n",
       "Fasteners                                    330\n",
       "Electrical Installation Materials, device    190\n",
       "Valves, Actuator, Fittings                   157\n",
       "Equipment OEM Spare Parts                    121\n",
       "Gas, water and sewage installation            96\n",
       "Piping Materials                              67\n",
       "Facility consumables                          27\n",
       "Name: count, dtype: int64"
      ]
     },
     "execution_count": 83,
     "metadata": {},
     "output_type": "execute_result"
    }
   ],
   "source": [
    "df_mil['qa_label'].value_counts()"
   ]
  },
  {
   "cell_type": "code",
   "execution_count": null,
   "metadata": {},
   "outputs": [],
   "source": [
    "df_mil[df_mil['']]"
   ]
  },
  {
   "cell_type": "code",
   "execution_count": 85,
   "metadata": {},
   "outputs": [],
   "source": [
    "loaded_model = joblib.load('models/text_classification_model_full_catalog.joblib')\n",
    "new_data = df_mil['cleaned_noun'].tolist()\n",
    "probabilities = loaded_model.predict_proba(new_data)\n",
    "probabilities_df = pd.DataFrame(probabilities, columns=loaded_model.classes_)\n",
    "probabilities_df = probabilities_df.round(2)\n",
    "df_mil['max_probability'] = probabilities_df.max(axis=1)\n",
    "df_mil['predicted_category'] = probabilities_df.idxmax(axis=1)"
   ]
  },
  {
   "cell_type": "code",
   "execution_count": 86,
   "metadata": {},
   "outputs": [
    {
     "name": "stdout",
     "output_type": "stream",
     "text": [
      "Accuracy: 0.60\n",
      "\n",
      "Classification Report:\n",
      "                                           precision    recall  f1-score   support\n",
      "\n",
      "Electrical Installation Materials, device       0.61      0.55      0.58       190\n",
      "                Equipment OEM Spare Parts       0.62      0.04      0.08       121\n",
      "                     Facility consumables       0.41      0.41      0.41        27\n",
      "                                Fasteners       0.62      0.89      0.73       330\n",
      "       Gas, water and sewage installation       0.44      0.50      0.47        96\n",
      "                         Piping Materials       0.66      0.55      0.60        67\n",
      "               Valves, Actuator, Fittings       0.64      0.58      0.61       157\n",
      "                                      nan       0.00      0.00      0.00         0\n",
      "\n",
      "                                 accuracy                           0.60       988\n",
      "                                macro avg       0.50      0.44      0.43       988\n",
      "                             weighted avg       0.60      0.60      0.56       988\n",
      "\n"
     ]
    },
    {
     "name": "stderr",
     "output_type": "stream",
     "text": [
      "c:\\Users\\RodrigoMartínezAlons\\anaconda3\\Lib\\site-packages\\sklearn\\metrics\\_classification.py:1531: UndefinedMetricWarning: Recall is ill-defined and being set to 0.0 in labels with no true samples. Use `zero_division` parameter to control this behavior.\n",
      "  _warn_prf(average, modifier, f\"{metric.capitalize()} is\", len(result))\n",
      "c:\\Users\\RodrigoMartínezAlons\\anaconda3\\Lib\\site-packages\\sklearn\\metrics\\_classification.py:1531: UndefinedMetricWarning: Recall is ill-defined and being set to 0.0 in labels with no true samples. Use `zero_division` parameter to control this behavior.\n",
      "  _warn_prf(average, modifier, f\"{metric.capitalize()} is\", len(result))\n",
      "c:\\Users\\RodrigoMartínezAlons\\anaconda3\\Lib\\site-packages\\sklearn\\metrics\\_classification.py:1531: UndefinedMetricWarning: Recall is ill-defined and being set to 0.0 in labels with no true samples. Use `zero_division` parameter to control this behavior.\n",
      "  _warn_prf(average, modifier, f\"{metric.capitalize()} is\", len(result))\n"
     ]
    }
   ],
   "source": [
    "# Compute the metrics\n",
    "df_mil['qa_label'] = df_mil['qa_label'].astype(str)\n",
    "df_mil['predicted_category'] = df_mil['predicted_category'].astype(str)\n",
    "accuracy = accuracy_score(df_mil['qa_label'], df_mil['predicted_category'])\n",
    "report = classification_report(df_mil['qa_label'], df_mil['predicted_category'])\n",
    "print(f\"Accuracy: {accuracy:.2f}\")\n",
    "print(\"\\nClassification Report:\")\n",
    "print(report)"
   ]
  },
  {
   "cell_type": "code",
   "execution_count": 46,
   "metadata": {},
   "outputs": [],
   "source": [
    "df_mil.to_pickle('df_mil_tfidf.pkl')"
   ]
  },
  {
   "cell_type": "code",
   "execution_count": 59,
   "metadata": {},
   "outputs": [
    {
     "data": {
      "text/plain": [
       "qa_label\n",
       "Fasteners                                    330\n",
       "Electrical Installation Materials, device    190\n",
       "Valves, Actuator, Fittings                   157\n",
       "Equipment OEM Spare Parts                    121\n",
       "Gas, water and sewage installation            96\n",
       "Piping Materials                              67\n",
       "Facility consumables                          27\n",
       "Name: count, dtype: int64"
      ]
     },
     "execution_count": 59,
     "metadata": {},
     "output_type": "execute_result"
    }
   ],
   "source": [
    "df_mil.qa_label.value_counts()"
   ]
  },
  {
   "cell_type": "code",
   "execution_count": 48,
   "metadata": {},
   "outputs": [
    {
     "data": {
      "text/html": [
       "<div>\n",
       "<style scoped>\n",
       "    .dataframe tbody tr th:only-of-type {\n",
       "        vertical-align: middle;\n",
       "    }\n",
       "\n",
       "    .dataframe tbody tr th {\n",
       "        vertical-align: top;\n",
       "    }\n",
       "\n",
       "    .dataframe thead th {\n",
       "        text-align: right;\n",
       "    }\n",
       "</style>\n",
       "<table border=\"1\" class=\"dataframe\">\n",
       "  <thead>\n",
       "    <tr style=\"text-align: right;\">\n",
       "      <th></th>\n",
       "      <th>Product Id</th>\n",
       "      <th>Quality Status</th>\n",
       "      <th>Manufacturer Name</th>\n",
       "      <th>Manufacturer PID</th>\n",
       "      <th>model</th>\n",
       "      <th>Short Description</th>\n",
       "      <th>Long Description</th>\n",
       "      <th>Additional description</th>\n",
       "      <th>score</th>\n",
       "      <th>Product family</th>\n",
       "      <th>...</th>\n",
       "      <th>script_helper</th>\n",
       "      <th>mfr_helper</th>\n",
       "      <th>noun_helper</th>\n",
       "      <th>mfr noun result match</th>\n",
       "      <th>qa_group</th>\n",
       "      <th>qa_label</th>\n",
       "      <th>review</th>\n",
       "      <th>cleaned_noun</th>\n",
       "      <th>max_probability</th>\n",
       "      <th>predicted_category</th>\n",
       "    </tr>\n",
       "  </thead>\n",
       "  <tbody>\n",
       "    <tr>\n",
       "      <th>7</th>\n",
       "      <td>101039312</td>\n",
       "      <td>SPARROW_PROCESSING</td>\n",
       "      <td>ATS sortimat USA, LLC</td>\n",
       "      <td>662539</td>\n",
       "      <td>NaN</td>\n",
       "      <td>RAIL, GUIDE, RAIL,</td>\n",
       "      <td>NaN</td>\n",
       "      <td>NaN</td>\n",
       "      <td>NaN</td>\n",
       "      <td>NaN</td>\n",
       "      <td>...</td>\n",
       "      <td>True</td>\n",
       "      <td>True</td>\n",
       "      <td>NaN</td>\n",
       "      <td>Null result present</td>\n",
       "      <td>99501340</td>\n",
       "      <td>Equipment OEM Spare Parts</td>\n",
       "      <td>bad string match</td>\n",
       "      <td>rail</td>\n",
       "      <td>0.96</td>\n",
       "      <td>Fasteners</td>\n",
       "    </tr>\n",
       "    <tr>\n",
       "      <th>14</th>\n",
       "      <td>61869560</td>\n",
       "      <td>SPARROW_PROCESSING</td>\n",
       "      <td>Tectrion</td>\n",
       "      <td>NaN</td>\n",
       "      <td>NaN</td>\n",
       "      <td>ausl.Becherbodenzentrierung</td>\n",
       "      <td>ausl.Becherbodenzentrierung; TECTRION; Benennu...</td>\n",
       "      <td>Benennung: Becherbodenzentrierung; Hersteller:...</td>\n",
       "      <td>NaN</td>\n",
       "      <td>NaN</td>\n",
       "      <td>...</td>\n",
       "      <td>False</td>\n",
       "      <td>False</td>\n",
       "      <td>NaN</td>\n",
       "      <td>Null result present</td>\n",
       "      <td>99501340</td>\n",
       "      <td>Equipment OEM Spare Parts</td>\n",
       "      <td>cup centering device? Part of a chemical device?</td>\n",
       "      <td>becherbodenzentrierung</td>\n",
       "      <td>0.35</td>\n",
       "      <td>Fasteners</td>\n",
       "    </tr>\n",
       "    <tr>\n",
       "      <th>15</th>\n",
       "      <td>61782339</td>\n",
       "      <td>SPARROW_PROCESSING</td>\n",
       "      <td>Kilian</td>\n",
       "      <td>213813</td>\n",
       "      <td>NaN</td>\n",
       "      <td>ANILLO OPRESOR;;213813</td>\n",
       "      <td>ANILLO OPRESOR;;213813; KILIAN_213813; Anillo ...</td>\n",
       "      <td>Anillo opresor para disco</td>\n",
       "      <td>NaN</td>\n",
       "      <td>NaN</td>\n",
       "      <td>...</td>\n",
       "      <td>False</td>\n",
       "      <td>NaN</td>\n",
       "      <td>False</td>\n",
       "      <td>Null result present</td>\n",
       "      <td>99501340</td>\n",
       "      <td>Equipment OEM Spare Parts</td>\n",
       "      <td>Engine device - piston clamp</td>\n",
       "      <td>anillo</td>\n",
       "      <td>0.98</td>\n",
       "      <td>Fasteners</td>\n",
       "    </tr>\n",
       "    <tr>\n",
       "      <th>45</th>\n",
       "      <td>61900833</td>\n",
       "      <td>SPARROW_IN_PROGRESS</td>\n",
       "      <td>NaN</td>\n",
       "      <td>120014</td>\n",
       "      <td>120014</td>\n",
       "      <td>KIT:MOTOR SEAL,120014</td>\n",
       "      <td>KIT:MOTOR SEAL,120014; ; KIT: MOTOR SEAL TYPE,...</td>\n",
       "      <td>KIT: MOTOR SEAL TYPE, 120014 MFG P/N; WHERE AP...</td>\n",
       "      <td>6</td>\n",
       "      <td>NaN</td>\n",
       "      <td>...</td>\n",
       "      <td>False</td>\n",
       "      <td>NaN</td>\n",
       "      <td>False</td>\n",
       "      <td>Null result present</td>\n",
       "      <td>99501340</td>\n",
       "      <td>Equipment OEM Spare Parts</td>\n",
       "      <td>Motor?</td>\n",
       "      <td>kitmotor seal</td>\n",
       "      <td>1.00</td>\n",
       "      <td>Valves, Actuator, Fittings</td>\n",
       "    </tr>\n",
       "    <tr>\n",
       "      <th>46</th>\n",
       "      <td>62056024</td>\n",
       "      <td>SPARROW_PROCESSING</td>\n",
       "      <td>NaN</td>\n",
       "      <td>NaN</td>\n",
       "      <td>NaN</td>\n",
       "      <td>ANF hydraulic operated motor of SDV</td>\n",
       "      <td>ANF hydraulic operated motor of SDV; ;</td>\n",
       "      <td>NaN</td>\n",
       "      <td>NaN</td>\n",
       "      <td>NaN</td>\n",
       "      <td>...</td>\n",
       "      <td>False</td>\n",
       "      <td>NaN</td>\n",
       "      <td>False</td>\n",
       "      <td>Null result present</td>\n",
       "      <td>99501340</td>\n",
       "      <td>Equipment OEM Spare Parts</td>\n",
       "      <td>Motor?</td>\n",
       "      <td>motor</td>\n",
       "      <td>1.00</td>\n",
       "      <td>Valves, Actuator, Fittings</td>\n",
       "    </tr>\n",
       "    <tr>\n",
       "      <th>...</th>\n",
       "      <td>...</td>\n",
       "      <td>...</td>\n",
       "      <td>...</td>\n",
       "      <td>...</td>\n",
       "      <td>...</td>\n",
       "      <td>...</td>\n",
       "      <td>...</td>\n",
       "      <td>...</td>\n",
       "      <td>...</td>\n",
       "      <td>...</td>\n",
       "      <td>...</td>\n",
       "      <td>...</td>\n",
       "      <td>...</td>\n",
       "      <td>...</td>\n",
       "      <td>...</td>\n",
       "      <td>...</td>\n",
       "      <td>...</td>\n",
       "      <td>...</td>\n",
       "      <td>...</td>\n",
       "      <td>...</td>\n",
       "      <td>...</td>\n",
       "    </tr>\n",
       "    <tr>\n",
       "      <th>974</th>\n",
       "      <td>61861741</td>\n",
       "      <td>SPARROW_PROCESSING</td>\n",
       "      <td>Breitner Abfüllanlagen</td>\n",
       "      <td>129318</td>\n",
       "      <td>NaN</td>\n",
       "      <td>Wellenverlängerung V2A            129318</td>\n",
       "      <td>Wellenverlängerung V2A            129318; BREI...</td>\n",
       "      <td>Benennung: Wellenverlängerung; Werkstoff: V2A;...</td>\n",
       "      <td>NaN</td>\n",
       "      <td>NaN</td>\n",
       "      <td>...</td>\n",
       "      <td>True</td>\n",
       "      <td>True</td>\n",
       "      <td>NaN</td>\n",
       "      <td>Null result present</td>\n",
       "      <td>99501340</td>\n",
       "      <td>Equipment OEM Spare Parts</td>\n",
       "      <td>NaN</td>\n",
       "      <td>wellenverlängerung</td>\n",
       "      <td>0.95</td>\n",
       "      <td>Gas, water and sewage installation</td>\n",
       "    </tr>\n",
       "    <tr>\n",
       "      <th>975</th>\n",
       "      <td>62038732</td>\n",
       "      <td>SPARROW_PROCESSING</td>\n",
       "      <td>Amixon</td>\n",
       "      <td>10000126</td>\n",
       "      <td>LT24</td>\n",
       "      <td>Widerstandsthermometer LT24 Pt100 170mm</td>\n",
       "      <td>Widerstandsthermometer LT24 Pt100 170mm; AMIXO...</td>\n",
       "      <td>Benennung: Widerstandsthermometer; Typ: LT24; ...</td>\n",
       "      <td>NaN</td>\n",
       "      <td>NaN</td>\n",
       "      <td>...</td>\n",
       "      <td>True</td>\n",
       "      <td>True</td>\n",
       "      <td>NaN</td>\n",
       "      <td>Null result present</td>\n",
       "      <td>99501340</td>\n",
       "      <td>Equipment OEM Spare Parts</td>\n",
       "      <td>NaN</td>\n",
       "      <td>widerstandsthermometer</td>\n",
       "      <td>0.65</td>\n",
       "      <td>Valves, Actuator, Fittings</td>\n",
       "    </tr>\n",
       "    <tr>\n",
       "      <th>977</th>\n",
       "      <td>62048164</td>\n",
       "      <td>SPARROW_PROCESSING</td>\n",
       "      <td>Pester</td>\n",
       "      <td>115820</td>\n",
       "      <td>NaN</td>\n",
       "      <td>Pester Wrapping machine/washer/373999</td>\n",
       "      <td>Pester Wrapping machine/washer/373999; 115820;</td>\n",
       "      <td>NaN</td>\n",
       "      <td>NaN</td>\n",
       "      <td>NaN</td>\n",
       "      <td>...</td>\n",
       "      <td>True</td>\n",
       "      <td>True</td>\n",
       "      <td>NaN</td>\n",
       "      <td>Null result present</td>\n",
       "      <td>99501340</td>\n",
       "      <td>Equipment OEM Spare Parts</td>\n",
       "      <td>NaN</td>\n",
       "      <td>wrapping machinewasher</td>\n",
       "      <td>0.35</td>\n",
       "      <td>Fasteners</td>\n",
       "    </tr>\n",
       "    <tr>\n",
       "      <th>978</th>\n",
       "      <td>62048030</td>\n",
       "      <td>SPARROW_PROCESSING</td>\n",
       "      <td>amixon GmbH</td>\n",
       "      <td>NaN</td>\n",
       "      <td>NaN</td>\n",
       "      <td>Zahnkranz                         Pos.77</td>\n",
       "      <td>Zahnkranz                         Pos.77; AMIX...</td>\n",
       "      <td>Benennung: Zahnkranz; für: Getriebe KS 6000.3-...</td>\n",
       "      <td>NaN</td>\n",
       "      <td>NaN</td>\n",
       "      <td>...</td>\n",
       "      <td>True</td>\n",
       "      <td>True</td>\n",
       "      <td>NaN</td>\n",
       "      <td>Null result present</td>\n",
       "      <td>99501340</td>\n",
       "      <td>Equipment OEM Spare Parts</td>\n",
       "      <td>NaN</td>\n",
       "      <td>zahnkranz</td>\n",
       "      <td>0.99</td>\n",
       "      <td>Fasteners</td>\n",
       "    </tr>\n",
       "    <tr>\n",
       "      <th>985</th>\n",
       "      <td>61843238</td>\n",
       "      <td>SPARROW_PROCESSING</td>\n",
       "      <td>Marchesini</td>\n",
       "      <td>A30G690023</td>\n",
       "      <td>A30G690023</td>\n",
       "      <td>Zange                         A30G690023</td>\n",
       "      <td>Zange                         A30G690023; MARC...</td>\n",
       "      <td>Benennung: Zange; Hersteller: Marchesini; Iden...</td>\n",
       "      <td>NaN</td>\n",
       "      <td>NaN</td>\n",
       "      <td>...</td>\n",
       "      <td>True</td>\n",
       "      <td>True</td>\n",
       "      <td>NaN</td>\n",
       "      <td>Null result present</td>\n",
       "      <td>99501340</td>\n",
       "      <td>Equipment OEM Spare Parts</td>\n",
       "      <td>NaN</td>\n",
       "      <td>zange</td>\n",
       "      <td>0.96</td>\n",
       "      <td>Electrical Installation Materials, device</td>\n",
       "    </tr>\n",
       "  </tbody>\n",
       "</table>\n",
       "<p>121 rows × 31 columns</p>\n",
       "</div>"
      ],
      "text/plain": [
       "     Product Id       Quality Status       Manufacturer Name Manufacturer PID  \\\n",
       "7     101039312   SPARROW_PROCESSING   ATS sortimat USA, LLC           662539   \n",
       "14     61869560   SPARROW_PROCESSING                Tectrion              NaN   \n",
       "15     61782339   SPARROW_PROCESSING                  Kilian           213813   \n",
       "45     61900833  SPARROW_IN_PROGRESS                     NaN           120014   \n",
       "46     62056024   SPARROW_PROCESSING                     NaN              NaN   \n",
       "..          ...                  ...                     ...              ...   \n",
       "974    61861741   SPARROW_PROCESSING  Breitner Abfüllanlagen           129318   \n",
       "975    62038732   SPARROW_PROCESSING                  Amixon         10000126   \n",
       "977    62048164   SPARROW_PROCESSING                  Pester           115820   \n",
       "978    62048030   SPARROW_PROCESSING             amixon GmbH              NaN   \n",
       "985    61843238   SPARROW_PROCESSING              Marchesini       A30G690023   \n",
       "\n",
       "          model                         Short Description  \\\n",
       "7           NaN                        RAIL, GUIDE, RAIL,   \n",
       "14          NaN               ausl.Becherbodenzentrierung   \n",
       "15          NaN                    ANILLO OPRESOR;;213813   \n",
       "45       120014                     KIT:MOTOR SEAL,120014   \n",
       "46          NaN       ANF hydraulic operated motor of SDV   \n",
       "..          ...                                       ...   \n",
       "974         NaN  Wellenverlängerung V2A            129318   \n",
       "975        LT24   Widerstandsthermometer LT24 Pt100 170mm   \n",
       "977         NaN     Pester Wrapping machine/washer/373999   \n",
       "978         NaN  Zahnkranz                         Pos.77   \n",
       "985  A30G690023  Zange                         A30G690023   \n",
       "\n",
       "                                      Long Description  \\\n",
       "7                                                  NaN   \n",
       "14   ausl.Becherbodenzentrierung; TECTRION; Benennu...   \n",
       "15   ANILLO OPRESOR;;213813; KILIAN_213813; Anillo ...   \n",
       "45   KIT:MOTOR SEAL,120014; ; KIT: MOTOR SEAL TYPE,...   \n",
       "46             ANF hydraulic operated motor of SDV; ;    \n",
       "..                                                 ...   \n",
       "974  Wellenverlängerung V2A            129318; BREI...   \n",
       "975  Widerstandsthermometer LT24 Pt100 170mm; AMIXO...   \n",
       "977    Pester Wrapping machine/washer/373999; 115820;    \n",
       "978  Zahnkranz                         Pos.77; AMIX...   \n",
       "985  Zange                         A30G690023; MARC...   \n",
       "\n",
       "                                Additional description score Product family  \\\n",
       "7                                                  NaN   NaN            NaN   \n",
       "14   Benennung: Becherbodenzentrierung; Hersteller:...   NaN            NaN   \n",
       "15                           Anillo opresor para disco   NaN            NaN   \n",
       "45   KIT: MOTOR SEAL TYPE, 120014 MFG P/N; WHERE AP...     6            NaN   \n",
       "46                                                 NaN   NaN            NaN   \n",
       "..                                                 ...   ...            ...   \n",
       "974  Benennung: Wellenverlängerung; Werkstoff: V2A;...   NaN            NaN   \n",
       "975  Benennung: Widerstandsthermometer; Typ: LT24; ...   NaN            NaN   \n",
       "977                                                NaN   NaN            NaN   \n",
       "978  Benennung: Zahnkranz; für: Getriebe KS 6000.3-...   NaN            NaN   \n",
       "985  Benennung: Zange; Hersteller: Marchesini; Iden...   NaN            NaN   \n",
       "\n",
       "     ... script_helper mfr_helper noun_helper  mfr noun result match  \\\n",
       "7    ...          True       True         NaN    Null result present   \n",
       "14   ...         False      False         NaN    Null result present   \n",
       "15   ...         False        NaN       False    Null result present   \n",
       "45   ...         False        NaN       False    Null result present   \n",
       "46   ...         False        NaN       False    Null result present   \n",
       "..   ...           ...        ...         ...                    ...   \n",
       "974  ...          True       True         NaN    Null result present   \n",
       "975  ...          True       True         NaN    Null result present   \n",
       "977  ...          True       True         NaN    Null result present   \n",
       "978  ...          True       True         NaN    Null result present   \n",
       "985  ...          True       True         NaN    Null result present   \n",
       "\n",
       "     qa_group                   qa_label  \\\n",
       "7    99501340  Equipment OEM Spare Parts   \n",
       "14   99501340  Equipment OEM Spare Parts   \n",
       "15   99501340  Equipment OEM Spare Parts   \n",
       "45   99501340  Equipment OEM Spare Parts   \n",
       "46   99501340  Equipment OEM Spare Parts   \n",
       "..        ...                        ...   \n",
       "974  99501340  Equipment OEM Spare Parts   \n",
       "975  99501340  Equipment OEM Spare Parts   \n",
       "977  99501340  Equipment OEM Spare Parts   \n",
       "978  99501340  Equipment OEM Spare Parts   \n",
       "985  99501340  Equipment OEM Spare Parts   \n",
       "\n",
       "                                               review            cleaned_noun  \\\n",
       "7                                    bad string match                    rail   \n",
       "14   cup centering device? Part of a chemical device?  becherbodenzentrierung   \n",
       "15                       Engine device - piston clamp                  anillo   \n",
       "45                                             Motor?           kitmotor seal   \n",
       "46                                             Motor?                   motor   \n",
       "..                                                ...                     ...   \n",
       "974                                               NaN      wellenverlängerung   \n",
       "975                                               NaN  widerstandsthermometer   \n",
       "977                                               NaN  wrapping machinewasher   \n",
       "978                                               NaN               zahnkranz   \n",
       "985                                               NaN                   zange   \n",
       "\n",
       "     max_probability                         predicted_category  \n",
       "7               0.96                                  Fasteners  \n",
       "14              0.35                                  Fasteners  \n",
       "15              0.98                                  Fasteners  \n",
       "45              1.00                 Valves, Actuator, Fittings  \n",
       "46              1.00                 Valves, Actuator, Fittings  \n",
       "..               ...                                        ...  \n",
       "974             0.95         Gas, water and sewage installation  \n",
       "975             0.65                 Valves, Actuator, Fittings  \n",
       "977             0.35                                  Fasteners  \n",
       "978             0.99                                  Fasteners  \n",
       "985             0.96  Electrical Installation Materials, device  \n",
       "\n",
       "[121 rows x 31 columns]"
      ]
     },
     "execution_count": 48,
     "metadata": {},
     "output_type": "execute_result"
    }
   ],
   "source": [
    "df_mil[df_mil['qa_label']=='Equipment OEM Spare Parts']"
   ]
  },
  {
   "cell_type": "code",
   "execution_count": 38,
   "metadata": {},
   "outputs": [],
   "source": [
    "# df_mil.to_csv('df_mil_Adam_prediction.csv')"
   ]
  },
  {
   "cell_type": "code",
   "execution_count": 39,
   "metadata": {},
   "outputs": [
    {
     "data": {
      "text/plain": [
       "count    1000.000000\n",
       "mean        0.900670\n",
       "std         0.195136\n",
       "min         0.210000\n",
       "25%         0.930000\n",
       "50%         0.990000\n",
       "75%         1.000000\n",
       "max         1.000000\n",
       "Name: max_probability, dtype: float64"
      ]
     },
     "execution_count": 39,
     "metadata": {},
     "output_type": "execute_result"
    }
   ],
   "source": [
    "df_mil.max_probability.describe()"
   ]
  },
  {
   "cell_type": "markdown",
   "metadata": {},
   "source": [
    "Get the performance metrics. Specially bad results for OEM, needs to be reviewed."
   ]
  },
  {
   "cell_type": "code",
   "execution_count": null,
   "metadata": {},
   "outputs": [],
   "source": []
  },
  {
   "cell_type": "code",
   "execution_count": 40,
   "metadata": {},
   "outputs": [
    {
     "name": "stdout",
     "output_type": "stream",
     "text": [
      "Accuracy: 0.76\n",
      "\n",
      "Classification Report:\n",
      "                                           precision    recall  f1-score   support\n",
      "\n",
      "Electrical Installation Materials, device       0.88      0.77      0.82       195\n",
      "                Equipment OEM Spare Parts       1.00      0.07      0.12       121\n",
      "                     Facility consumables       0.67      0.67      0.67        27\n",
      "                                Fasteners       0.68      0.99      0.81       335\n",
      "       Gas, water and sewage installation       0.64      0.72      0.68        97\n",
      "                         Piping Materials       0.96      0.81      0.88        67\n",
      "               Valves, Actuator, Fittings       0.87      0.78      0.82       158\n",
      "\n",
      "                                 accuracy                           0.76      1000\n",
      "                                macro avg       0.81      0.69      0.69      1000\n",
      "                             weighted avg       0.80      0.76      0.72      1000\n",
      "\n"
     ]
    }
   ],
   "source": [
    "df_mil['qa_label'] = df_mil['qa_label'].astype(str)  # or 'int' depending on your data type\n",
    "df_mil['predicted_category'] = df_mil['predicted_category'].astype(str)  # or 'int'\n",
    "accuracy = accuracy_score(df_mil['qa_label'], df_mil['predicted_category'])\n",
    "report = classification_report(df_mil['qa_label'], df_mil['predicted_category'])\n",
    "print(f\"Accuracy: {accuracy:.2f}\")\n",
    "print(\"\\nClassification Report:\")\n",
    "print(report)"
   ]
  },
  {
   "cell_type": "markdown",
   "metadata": {},
   "source": [
    "#### Run for 10k random parts"
   ]
  },
  {
   "cell_type": "code",
   "execution_count": 42,
   "metadata": {},
   "outputs": [
    {
     "name": "stderr",
     "output_type": "stream",
     "text": [
      "C:\\Users\\RodrigoMartínezAlons\\AppData\\Local\\Temp\\ipykernel_23460\\4170353576.py:6: DeprecationWarning: DataFrameGroupBy.apply operated on the grouping columns. This behavior is deprecated, and in a future version of pandas the grouping columns will be excluded from the operation. Either pass `include_groups=False` to exclude the groupings or explicitly select the grouping columns after groupby to silence this warning.\n",
      "  sampled_df = catalog_fin_10k.groupby('category_noun', group_keys=False).apply(lambda x: x.sample(min(len(x), samples_per_category)))\n"
     ]
    },
    {
     "data": {
      "text/plain": [
       "category_noun\n",
       "Electrical Installation Materials, device    1250\n",
       "Equipment OEM Spare Parts                    1250\n",
       "Facility consumables                         1250\n",
       "Fasteners                                    1250\n",
       "Gas, water and sewage installation           1250\n",
       "Piping Materials                             1250\n",
       "Undefined                                    1250\n",
       "Valves, Actuator, Fittings                   1250\n",
       "Name: count, dtype: int64"
      ]
     },
     "execution_count": 42,
     "metadata": {},
     "output_type": "execute_result"
    }
   ],
   "source": [
    "catalog_fin_10k = catalog_fin\n",
    "catalog_fin_10k['category_noun'] = catalog_fin_10k['category_noun'].fillna('Undefined')\n",
    "\n",
    "num_categories = catalog_fin_10k['category_noun'].nunique()\n",
    "samples_per_category = 10000 // num_categories\n",
    "sampled_df = catalog_fin_10k.groupby('category_noun', group_keys=False).apply(lambda x: x.sample(min(len(x), samples_per_category)))\n",
    "\n",
    "sampled_df.category_noun.value_counts()"
   ]
  },
  {
   "cell_type": "code",
   "execution_count": 43,
   "metadata": {},
   "outputs": [],
   "source": [
    "sampled_df['cleaned_noun'] = sampled_df['noun'].apply(clean_category_text)"
   ]
  },
  {
   "cell_type": "code",
   "execution_count": 68,
   "metadata": {},
   "outputs": [],
   "source": [
    "loaded_model = joblib.load('models/text_classification_model_full_catalog.joblib')\n",
    "new_data = sampled_df['cleaned_noun'].tolist()\n",
    "probabilities = loaded_model.predict_proba(new_data)\n",
    "probabilities_df = pd.DataFrame(probabilities, columns=loaded_model.classes_)\n",
    "probabilities_df = probabilities_df.round(2)\n",
    "\n",
    " # Extra steps, otherwise it is not working\n",
    "sampled_df['max_probability'] = probabilities_df.max(axis=1).tolist()\n",
    "sampled_df['predicted_category'] = probabilities_df.idxmax(axis=1).tolist()"
   ]
  },
  {
   "cell_type": "code",
   "execution_count": 69,
   "metadata": {},
   "outputs": [
    {
     "data": {
      "text/html": [
       "<div>\n",
       "<style scoped>\n",
       "    .dataframe tbody tr th:only-of-type {\n",
       "        vertical-align: middle;\n",
       "    }\n",
       "\n",
       "    .dataframe tbody tr th {\n",
       "        vertical-align: top;\n",
       "    }\n",
       "\n",
       "    .dataframe thead th {\n",
       "        text-align: right;\n",
       "    }\n",
       "</style>\n",
       "<table border=\"1\" class=\"dataframe\">\n",
       "  <thead>\n",
       "    <tr style=\"text-align: right;\">\n",
       "      <th></th>\n",
       "      <th>product_id</th>\n",
       "      <th>quality_status</th>\n",
       "      <th>manufacturer_name</th>\n",
       "      <th>manufacturer_pid</th>\n",
       "      <th>model</th>\n",
       "      <th>short_description</th>\n",
       "      <th>long_description</th>\n",
       "      <th>additional_description</th>\n",
       "      <th>noun</th>\n",
       "      <th>norm</th>\n",
       "      <th>scope</th>\n",
       "      <th>site</th>\n",
       "      <th>cleaned_noun</th>\n",
       "      <th>category_noun</th>\n",
       "      <th>matched_noun</th>\n",
       "      <th>word_count</th>\n",
       "      <th>max_probability</th>\n",
       "      <th>predicted_category</th>\n",
       "    </tr>\n",
       "  </thead>\n",
       "  <tbody>\n",
       "    <tr>\n",
       "      <th>316080</th>\n",
       "      <td>61736265</td>\n",
       "      <td>SPARROW_APPROVED</td>\n",
       "      <td>SCHNEIDER ELECTRIC</td>\n",
       "      <td>LC1D18B7</td>\n",
       "      <td>NaN</td>\n",
       "      <td>Leistungsschütz LC1D 3p +1S+1Ö</td>\n",
       "      <td>CONTACTOR:MAGNETIC,IEC,24VAC,LC1D18B7; ; CONTA...</td>\n",
       "      <td>CONTACTOR:MAGNETIC,IEC,24VAC,LC1D18B7; TYPE: I...</td>\n",
       "      <td>Schütz</td>\n",
       "      <td>CSA C22.2 No 14;EN 60947-4-1;EN 60947-5-1;IEC ...</td>\n",
       "      <td>NaN</td>\n",
       "      <td>CJJF</td>\n",
       "      <td>schütz</td>\n",
       "      <td>Electrical Installation Materials, device</td>\n",
       "      <td>schütz</td>\n",
       "      <td>1</td>\n",
       "      <td>0.98</td>\n",
       "      <td>Electrical Installation Materials, device</td>\n",
       "    </tr>\n",
       "    <tr>\n",
       "      <th>115494</th>\n",
       "      <td>61960796</td>\n",
       "      <td>SPARROW_APPROVED</td>\n",
       "      <td>SCHNEIDER ELECTRIC</td>\n",
       "      <td>LRD16</td>\n",
       "      <td>NaN</td>\n",
       "      <td>Motorschutzrelais 9-13A 1S+1Ö</td>\n",
       "      <td>MRP-O/L RLY LRD-16 9.0-13A TELEMECANIQUE; ;</td>\n",
       "      <td>NaN</td>\n",
       "      <td>Thermisches Überlastrelais mit Differenzialschutz</td>\n",
       "      <td>EN/IEC 60947-4-1;EN/IEC 60947-5-1;UL 60947-4-1...</td>\n",
       "      <td>NaN</td>\n",
       "      <td>KMLG</td>\n",
       "      <td>thermisches überlastrelais mit differenzialschutz</td>\n",
       "      <td>Electrical Installation Materials, device</td>\n",
       "      <td>überlastrelais</td>\n",
       "      <td>4</td>\n",
       "      <td>0.97</td>\n",
       "      <td>Electrical Installation Materials, device</td>\n",
       "    </tr>\n",
       "  </tbody>\n",
       "</table>\n",
       "</div>"
      ],
      "text/plain": [
       "        product_id    quality_status   manufacturer_name manufacturer_pid  \\\n",
       "316080    61736265  SPARROW_APPROVED  SCHNEIDER ELECTRIC         LC1D18B7   \n",
       "115494    61960796  SPARROW_APPROVED  SCHNEIDER ELECTRIC            LRD16   \n",
       "\n",
       "       model               short_description  \\\n",
       "316080   NaN  Leistungsschütz LC1D 3p +1S+1Ö   \n",
       "115494   NaN   Motorschutzrelais 9-13A 1S+1Ö   \n",
       "\n",
       "                                         long_description  \\\n",
       "316080  CONTACTOR:MAGNETIC,IEC,24VAC,LC1D18B7; ; CONTA...   \n",
       "115494       MRP-O/L RLY LRD-16 9.0-13A TELEMECANIQUE; ;    \n",
       "\n",
       "                                   additional_description  \\\n",
       "316080  CONTACTOR:MAGNETIC,IEC,24VAC,LC1D18B7; TYPE: I...   \n",
       "115494                                                NaN   \n",
       "\n",
       "                                                     noun  \\\n",
       "316080                                             Schütz   \n",
       "115494  Thermisches Überlastrelais mit Differenzialschutz   \n",
       "\n",
       "                                                     norm scope  site  \\\n",
       "316080  CSA C22.2 No 14;EN 60947-4-1;EN 60947-5-1;IEC ...   NaN  CJJF   \n",
       "115494  EN/IEC 60947-4-1;EN/IEC 60947-5-1;UL 60947-4-1...   NaN  KMLG   \n",
       "\n",
       "                                             cleaned_noun  \\\n",
       "316080                                             schütz   \n",
       "115494  thermisches überlastrelais mit differenzialschutz   \n",
       "\n",
       "                                    category_noun    matched_noun  word_count  \\\n",
       "316080  Electrical Installation Materials, device          schütz           1   \n",
       "115494  Electrical Installation Materials, device  überlastrelais           4   \n",
       "\n",
       "        max_probability                         predicted_category  \n",
       "316080             0.98  Electrical Installation Materials, device  \n",
       "115494             0.97  Electrical Installation Materials, device  "
      ]
     },
     "execution_count": 69,
     "metadata": {},
     "output_type": "execute_result"
    }
   ],
   "source": [
    "sampled_df.head(2)"
   ]
  },
  {
   "cell_type": "markdown",
   "metadata": {},
   "source": [
    "All the undefined are lying in the fasteners category because it is the biggest one. \n",
    "\n",
    "Model does not know how to categorize them, and decides to include them into the most common one."
   ]
  },
  {
   "cell_type": "code",
   "execution_count": 51,
   "metadata": {},
   "outputs": [
    {
     "data": {
      "text/plain": [
       "predicted_category\n",
       "Fasteners                                    2439\n",
       "Electrical Installation Materials, device    1333\n",
       "Gas, water and sewage installation           1259\n",
       "Valves, Actuator, Fittings                   1254\n",
       "Piping Materials                             1246\n",
       "Equipment OEM Spare Parts                    1236\n",
       "Facility consumables                         1233\n",
       "Name: count, dtype: int64"
      ]
     },
     "execution_count": 51,
     "metadata": {},
     "output_type": "execute_result"
    }
   ],
   "source": [
    "sampled_df.predicted_category.value_counts()"
   ]
  },
  {
   "cell_type": "code",
   "execution_count": 52,
   "metadata": {},
   "outputs": [],
   "source": [
    "# sampled_df.to_csv('df_10k_cat.csv')\n",
    "# sampled_df.to_excel('df_10k_cat.xlsx')"
   ]
  },
  {
   "cell_type": "markdown",
   "metadata": {},
   "source": [
    "All values for undefining are inside Fasteners"
   ]
  },
  {
   "cell_type": "code",
   "execution_count": 64,
   "metadata": {},
   "outputs": [
    {
     "name": "stdout",
     "output_type": "stream",
     "text": [
      "Accuracy: 0.87\n",
      "\n",
      "Classification Report:\n",
      "                                           precision    recall  f1-score   support\n",
      "\n",
      "Electrical Installation Materials, device       0.93      0.99      0.96      1250\n",
      "                Equipment OEM Spare Parts       1.00      0.99      0.99      1250\n",
      "                     Facility consumables       1.00      0.98      0.99      1250\n",
      "                                Fasteners       0.51      1.00      0.68      1250\n",
      "       Gas, water and sewage installation       0.99      0.99      0.99      1250\n",
      "                         Piping Materials       1.00      1.00      1.00      1250\n",
      "                                Undefined       0.00      0.00      0.00      1250\n",
      "               Valves, Actuator, Fittings       1.00      1.00      1.00      1250\n",
      "\n",
      "                                 accuracy                           0.87     10000\n",
      "                                macro avg       0.80      0.87      0.83     10000\n",
      "                             weighted avg       0.80      0.87      0.83     10000\n",
      "\n"
     ]
    },
    {
     "name": "stderr",
     "output_type": "stream",
     "text": [
      "c:\\Users\\RodrigoMartínezAlons\\anaconda3\\Lib\\site-packages\\sklearn\\metrics\\_classification.py:1531: UndefinedMetricWarning: Precision is ill-defined and being set to 0.0 in labels with no predicted samples. Use `zero_division` parameter to control this behavior.\n",
      "  _warn_prf(average, modifier, f\"{metric.capitalize()} is\", len(result))\n",
      "c:\\Users\\RodrigoMartínezAlons\\anaconda3\\Lib\\site-packages\\sklearn\\metrics\\_classification.py:1531: UndefinedMetricWarning: Precision is ill-defined and being set to 0.0 in labels with no predicted samples. Use `zero_division` parameter to control this behavior.\n",
      "  _warn_prf(average, modifier, f\"{metric.capitalize()} is\", len(result))\n",
      "c:\\Users\\RodrigoMartínezAlons\\anaconda3\\Lib\\site-packages\\sklearn\\metrics\\_classification.py:1531: UndefinedMetricWarning: Precision is ill-defined and being set to 0.0 in labels with no predicted samples. Use `zero_division` parameter to control this behavior.\n",
      "  _warn_prf(average, modifier, f\"{metric.capitalize()} is\", len(result))\n"
     ]
    }
   ],
   "source": [
    "sampled_df['category_noun'] = sampled_df['category_noun'].astype(str)  # or 'int' depending on your data type\n",
    "sampled_df['predicted_category'] = sampled_df['predicted_category'].astype(str)  # or 'int'\n",
    "accuracy = accuracy_score(sampled_df['category_noun'], sampled_df['predicted_category'])\n",
    "report = classification_report(sampled_df['category_noun'], sampled_df['predicted_category'])\n",
    "print(f\"Accuracy: {accuracy:.2f}\")\n",
    "print(\"\\nClassification Report:\")\n",
    "print(report)"
   ]
  },
  {
   "cell_type": "markdown",
   "metadata": {},
   "source": [
    "### 1.2) With the CountVectorizer"
   ]
  },
  {
   "cell_type": "code",
   "execution_count": null,
   "metadata": {},
   "outputs": [
    {
     "name": "stdout",
     "output_type": "stream",
     "text": [
      "CountVectorizer Model:\n",
      "                                           precision    recall  f1-score   support\n",
      "\n",
      "Electrical Installation Materials, device       1.00      0.98      0.99      6834\n",
      "                Equipment OEM Spare Parts       0.99      0.98      0.98       765\n",
      "                     Facility consumables       1.00      0.97      0.98      1677\n",
      "                                Fasteners       0.99      1.00      0.99     19434\n",
      "       Gas, water and sewage installation       1.00      0.99      0.99      3893\n",
      "                         Piping Materials       1.00      1.00      1.00      3033\n",
      "               Valves, Actuator, Fittings       1.00      0.99      0.99      5577\n",
      "\n",
      "                                 accuracy                           0.99     41213\n",
      "                                macro avg       0.99      0.99      0.99     41213\n",
      "                             weighted avg       0.99      0.99      0.99     41213\n",
      "\n"
     ]
    }
   ],
   "source": [
    "model_count = make_pipeline(CountVectorizer(stop_words='english', max_features=5000, ngram_range=(1, 2), min_df=2, max_df=0.95), LogisticRegression(max_iter=1000))\n",
    "model_count.fit(X_train, y_train)\n",
    "y_pred_count = model_count.predict(X_test)\n",
    "print(\"CountVectorizer Model:\")\n",
    "print(classification_report(y_test, y_pred_count))"
   ]
  },
  {
   "cell_type": "markdown",
   "metadata": {},
   "source": [
    "### 1.3) Adjusting imbalanced classes"
   ]
  },
  {
   "cell_type": "markdown",
   "metadata": {},
   "source": [
    "1) Inside the Pipeline"
   ]
  },
  {
   "cell_type": "code",
   "execution_count": 70,
   "metadata": {},
   "outputs": [
    {
     "name": "stdout",
     "output_type": "stream",
     "text": [
      "                                           precision    recall  f1-score   support\n",
      "\n",
      "Electrical Installation Materials, device       0.97      0.99      0.98      6834\n",
      "                Equipment OEM Spare Parts       0.96      0.99      0.98       765\n",
      "                     Facility consumables       0.99      0.98      0.98      1677\n",
      "                                Fasteners       1.00      0.99      1.00     19434\n",
      "       Gas, water and sewage installation       0.99      0.99      0.99      3893\n",
      "                         Piping Materials       0.99      1.00      1.00      3033\n",
      "               Valves, Actuator, Fittings       0.99      0.99      0.99      5577\n",
      "\n",
      "                                 accuracy                           0.99     41213\n",
      "                                macro avg       0.99      0.99      0.99     41213\n",
      "                             weighted avg       0.99      0.99      0.99     41213\n",
      "\n"
     ]
    }
   ],
   "source": [
    "X = filtered_df_noun['cleaned_noun']  # Features (cleaned nouns)\n",
    "y = filtered_df_noun['category_noun']  # Labels (categories)\n",
    "\n",
    "X_train, X_test, y_train, y_test = train_test_split(X, y, test_size=0.15, random_state=42)\n",
    "model = make_pipeline(\n",
    "    TfidfVectorizer(stop_words='english', max_features=5000, ngram_range=(1, 2), min_df=2, max_df=0.95),\n",
    "    LogisticRegression(max_iter=1000, class_weight='balanced')  # Automatically adjusts weights for imbalanced classes\n",
    ")\n",
    "model.fit(X_train, y_train)\n",
    "y_pred = model.predict(X_test)\n",
    "print(classification_report(y_test, y_pred))"
   ]
  },
  {
   "cell_type": "code",
   "execution_count": 71,
   "metadata": {},
   "outputs": [],
   "source": [
    "# joblib.dump(model, 'models/text_classification_model_balanced_full_catalog.joblib')"
   ]
  },
  {
   "cell_type": "code",
   "execution_count": 75,
   "metadata": {},
   "outputs": [],
   "source": [
    "loaded_model = joblib.load('models/balanced/text_classification_model_balanced.joblib')\n",
    "new_data = non_matched_df['cleaned_noun'].tolist()  # Replace with your actual new data\n",
    "probabilities = loaded_model.predict_proba(new_data)\n",
    "probabilities_df = pd.DataFrame(probabilities, columns=loaded_model.classes_)\n",
    "probabilities_df = probabilities_df.round(2)\n",
    "probabilities_df['max_probability'] = probabilities_df.max(axis=1)\n",
    "probabilities_df['predicted_category'] = probabilities_df.idxmax(axis=1)\n",
    "probabilities_df['cleaned_noun'] = new_data"
   ]
  },
  {
   "cell_type": "code",
   "execution_count": 78,
   "metadata": {},
   "outputs": [
    {
     "data": {
      "text/html": [
       "<div>\n",
       "<style scoped>\n",
       "    .dataframe tbody tr th:only-of-type {\n",
       "        vertical-align: middle;\n",
       "    }\n",
       "\n",
       "    .dataframe tbody tr th {\n",
       "        vertical-align: top;\n",
       "    }\n",
       "\n",
       "    .dataframe thead th {\n",
       "        text-align: right;\n",
       "    }\n",
       "</style>\n",
       "<table border=\"1\" class=\"dataframe\">\n",
       "  <thead>\n",
       "    <tr style=\"text-align: right;\">\n",
       "      <th></th>\n",
       "      <th>Electrical Installation Materials, device</th>\n",
       "      <th>Equipment OEM Spare Parts</th>\n",
       "      <th>Facility consumables</th>\n",
       "      <th>Fasteners</th>\n",
       "      <th>Gas, water and sewage installation</th>\n",
       "      <th>Piping Materials</th>\n",
       "      <th>Valves, Actuator, Fittings</th>\n",
       "      <th>max_probability</th>\n",
       "      <th>predicted_category</th>\n",
       "      <th>cleaned_noun</th>\n",
       "    </tr>\n",
       "  </thead>\n",
       "  <tbody>\n",
       "    <tr>\n",
       "      <th>0</th>\n",
       "      <td>0.29</td>\n",
       "      <td>0.04</td>\n",
       "      <td>0.14</td>\n",
       "      <td>0.22</td>\n",
       "      <td>0.13</td>\n",
       "      <td>0.06</td>\n",
       "      <td>0.13</td>\n",
       "      <td>0.29</td>\n",
       "      <td>Electrical Installation Materials, device</td>\n",
       "      <td>höinrodd</td>\n",
       "    </tr>\n",
       "    <tr>\n",
       "      <th>1</th>\n",
       "      <td>0.29</td>\n",
       "      <td>0.04</td>\n",
       "      <td>0.14</td>\n",
       "      <td>0.22</td>\n",
       "      <td>0.13</td>\n",
       "      <td>0.06</td>\n",
       "      <td>0.13</td>\n",
       "      <td>0.29</td>\n",
       "      <td>Electrical Installation Materials, device</td>\n",
       "      <td>スüßbürz</td>\n",
       "    </tr>\n",
       "    <tr>\n",
       "      <th>2</th>\n",
       "      <td>0.29</td>\n",
       "      <td>0.04</td>\n",
       "      <td>0.14</td>\n",
       "      <td>0.22</td>\n",
       "      <td>0.13</td>\n",
       "      <td>0.06</td>\n",
       "      <td>0.13</td>\n",
       "      <td>0.29</td>\n",
       "      <td>Electrical Installation Materials, device</td>\n",
       "      <td>スüßbürz</td>\n",
       "    </tr>\n",
       "    <tr>\n",
       "      <th>3</th>\n",
       "      <td>0.29</td>\n",
       "      <td>0.04</td>\n",
       "      <td>0.14</td>\n",
       "      <td>0.22</td>\n",
       "      <td>0.13</td>\n",
       "      <td>0.06</td>\n",
       "      <td>0.13</td>\n",
       "      <td>0.29</td>\n",
       "      <td>Electrical Installation Materials, device</td>\n",
       "      <td>スüßbema</td>\n",
       "    </tr>\n",
       "    <tr>\n",
       "      <th>4</th>\n",
       "      <td>0.29</td>\n",
       "      <td>0.04</td>\n",
       "      <td>0.14</td>\n",
       "      <td>0.22</td>\n",
       "      <td>0.13</td>\n",
       "      <td>0.06</td>\n",
       "      <td>0.13</td>\n",
       "      <td>0.29</td>\n",
       "      <td>Electrical Installation Materials, device</td>\n",
       "      <td>белрт</td>\n",
       "    </tr>\n",
       "    <tr>\n",
       "      <th>...</th>\n",
       "      <td>...</td>\n",
       "      <td>...</td>\n",
       "      <td>...</td>\n",
       "      <td>...</td>\n",
       "      <td>...</td>\n",
       "      <td>...</td>\n",
       "      <td>...</td>\n",
       "      <td>...</td>\n",
       "      <td>...</td>\n",
       "      <td>...</td>\n",
       "    </tr>\n",
       "    <tr>\n",
       "      <th>108062</th>\n",
       "      <td>0.29</td>\n",
       "      <td>0.04</td>\n",
       "      <td>0.14</td>\n",
       "      <td>0.22</td>\n",
       "      <td>0.13</td>\n",
       "      <td>0.06</td>\n",
       "      <td>0.13</td>\n",
       "      <td>0.29</td>\n",
       "      <td>Electrical Installation Materials, device</td>\n",
       "      <td>carrilera</td>\n",
       "    </tr>\n",
       "    <tr>\n",
       "      <th>108063</th>\n",
       "      <td>0.29</td>\n",
       "      <td>0.04</td>\n",
       "      <td>0.14</td>\n",
       "      <td>0.22</td>\n",
       "      <td>0.13</td>\n",
       "      <td>0.06</td>\n",
       "      <td>0.13</td>\n",
       "      <td>0.29</td>\n",
       "      <td>Electrical Installation Materials, device</td>\n",
       "      <td>tapas</td>\n",
       "    </tr>\n",
       "    <tr>\n",
       "      <th>108064</th>\n",
       "      <td>0.29</td>\n",
       "      <td>0.04</td>\n",
       "      <td>0.14</td>\n",
       "      <td>0.22</td>\n",
       "      <td>0.13</td>\n",
       "      <td>0.06</td>\n",
       "      <td>0.13</td>\n",
       "      <td>0.29</td>\n",
       "      <td>Electrical Installation Materials, device</td>\n",
       "      <td>columna</td>\n",
       "    </tr>\n",
       "    <tr>\n",
       "      <th>108065</th>\n",
       "      <td>0.29</td>\n",
       "      <td>0.04</td>\n",
       "      <td>0.14</td>\n",
       "      <td>0.22</td>\n",
       "      <td>0.13</td>\n",
       "      <td>0.06</td>\n",
       "      <td>0.13</td>\n",
       "      <td>0.29</td>\n",
       "      <td>Electrical Installation Materials, device</td>\n",
       "      <td>rollo</td>\n",
       "    </tr>\n",
       "    <tr>\n",
       "      <th>108066</th>\n",
       "      <td>0.29</td>\n",
       "      <td>0.04</td>\n",
       "      <td>0.14</td>\n",
       "      <td>0.22</td>\n",
       "      <td>0.13</td>\n",
       "      <td>0.06</td>\n",
       "      <td>0.13</td>\n",
       "      <td>0.29</td>\n",
       "      <td>Electrical Installation Materials, device</td>\n",
       "      <td>cierre</td>\n",
       "    </tr>\n",
       "  </tbody>\n",
       "</table>\n",
       "<p>108067 rows × 10 columns</p>\n",
       "</div>"
      ],
      "text/plain": [
       "        Electrical Installation Materials, device  Equipment OEM Spare Parts  \\\n",
       "0                                            0.29                       0.04   \n",
       "1                                            0.29                       0.04   \n",
       "2                                            0.29                       0.04   \n",
       "3                                            0.29                       0.04   \n",
       "4                                            0.29                       0.04   \n",
       "...                                           ...                        ...   \n",
       "108062                                       0.29                       0.04   \n",
       "108063                                       0.29                       0.04   \n",
       "108064                                       0.29                       0.04   \n",
       "108065                                       0.29                       0.04   \n",
       "108066                                       0.29                       0.04   \n",
       "\n",
       "        Facility consumables  Fasteners  Gas, water and sewage installation  \\\n",
       "0                       0.14       0.22                                0.13   \n",
       "1                       0.14       0.22                                0.13   \n",
       "2                       0.14       0.22                                0.13   \n",
       "3                       0.14       0.22                                0.13   \n",
       "4                       0.14       0.22                                0.13   \n",
       "...                      ...        ...                                 ...   \n",
       "108062                  0.14       0.22                                0.13   \n",
       "108063                  0.14       0.22                                0.13   \n",
       "108064                  0.14       0.22                                0.13   \n",
       "108065                  0.14       0.22                                0.13   \n",
       "108066                  0.14       0.22                                0.13   \n",
       "\n",
       "        Piping Materials  Valves, Actuator, Fittings  max_probability  \\\n",
       "0                   0.06                        0.13             0.29   \n",
       "1                   0.06                        0.13             0.29   \n",
       "2                   0.06                        0.13             0.29   \n",
       "3                   0.06                        0.13             0.29   \n",
       "4                   0.06                        0.13             0.29   \n",
       "...                  ...                         ...              ...   \n",
       "108062              0.06                        0.13             0.29   \n",
       "108063              0.06                        0.13             0.29   \n",
       "108064              0.06                        0.13             0.29   \n",
       "108065              0.06                        0.13             0.29   \n",
       "108066              0.06                        0.13             0.29   \n",
       "\n",
       "                               predicted_category cleaned_noun  \n",
       "0       Electrical Installation Materials, device     höinrodd  \n",
       "1       Electrical Installation Materials, device      スüßbürz  \n",
       "2       Electrical Installation Materials, device      スüßbürz  \n",
       "3       Electrical Installation Materials, device      スüßbema  \n",
       "4       Electrical Installation Materials, device        белрт  \n",
       "...                                           ...          ...  \n",
       "108062  Electrical Installation Materials, device    carrilera  \n",
       "108063  Electrical Installation Materials, device        tapas  \n",
       "108064  Electrical Installation Materials, device      columna  \n",
       "108065  Electrical Installation Materials, device        rollo  \n",
       "108066  Electrical Installation Materials, device       cierre  \n",
       "\n",
       "[108067 rows x 10 columns]"
      ]
     },
     "execution_count": 78,
     "metadata": {},
     "output_type": "execute_result"
    }
   ],
   "source": [
    "probabilities_df  # Again probabilities end up being vary similar and it tends to include all values inside the biggest category"
   ]
  },
  {
   "cell_type": "code",
   "execution_count": 79,
   "metadata": {},
   "outputs": [
    {
     "data": {
      "text/plain": [
       "count    108067.000000\n",
       "mean          0.297283\n",
       "std           0.049233\n",
       "min           0.190000\n",
       "25%           0.290000\n",
       "50%           0.290000\n",
       "75%           0.290000\n",
       "max           0.830000\n",
       "Name: max_probability, dtype: float64"
      ]
     },
     "execution_count": 79,
     "metadata": {},
     "output_type": "execute_result"
    }
   ],
   "source": [
    "probabilities_df.max_probability.describe()"
   ]
  },
  {
   "cell_type": "markdown",
   "metadata": {},
   "source": [
    "2) Using SMOTE"
   ]
  },
  {
   "cell_type": "code",
   "execution_count": 80,
   "metadata": {},
   "outputs": [
    {
     "name": "stdout",
     "output_type": "stream",
     "text": [
      "                                           precision    recall  f1-score   support\n",
      "\n",
      "Electrical Installation Materials, device       0.97      0.99      0.98      6834\n",
      "                Equipment OEM Spare Parts       0.96      0.99      0.98       765\n",
      "                     Facility consumables       0.99      0.98      0.99      1677\n",
      "                                Fasteners       1.00      1.00      1.00     19434\n",
      "       Gas, water and sewage installation       1.00      0.99      0.99      3893\n",
      "                         Piping Materials       0.99      1.00      0.99      3033\n",
      "               Valves, Actuator, Fittings       1.00      0.99      1.00      5577\n",
      "\n",
      "                                 accuracy                           0.99     41213\n",
      "                                macro avg       0.99      0.99      0.99     41213\n",
      "                             weighted avg       0.99      0.99      0.99     41213\n",
      "\n"
     ]
    }
   ],
   "source": [
    "X = filtered_df_noun['cleaned_noun'] \n",
    "y = filtered_df_noun['category_noun'] \n",
    "X_train, X_test, y_train, y_test = train_test_split(X, y, test_size=0.15, random_state=42)\n",
    "\n",
    "tfidf_vectorizer = TfidfVectorizer(stop_words='english', max_features=5000, ngram_range=(1, 2), min_df=2, max_df=0.95)\n",
    "smote = SMOTE(random_state=42)\n",
    "\n",
    "pipeline = Pipeline([\n",
    "    ('vectorizer', tfidf_vectorizer),\n",
    "    ('smote', smote),\n",
    "    ('classifier', LogisticRegression(max_iter=1000))])\n",
    "\n",
    "pipeline.fit(X_train, y_train)\n",
    "y_pred = pipeline.predict(X_test)\n",
    "print(classification_report(y_test, y_pred))"
   ]
  },
  {
   "cell_type": "code",
   "execution_count": 268,
   "metadata": {},
   "outputs": [
    {
     "data": {
      "text/plain": [
       "['models/text_classification_model_balanced_SMOTE.joblib']"
      ]
     },
     "execution_count": 268,
     "metadata": {},
     "output_type": "execute_result"
    }
   ],
   "source": [
    "# joblib.dump(model, 'models/text_classification_model_balanced_SMOTE.joblib')"
   ]
  },
  {
   "cell_type": "code",
   "execution_count": 81,
   "metadata": {},
   "outputs": [],
   "source": [
    "loaded_model = joblib.load('models/balanced/text_classification_model_balanced_SMOTE.joblib')\n",
    "new_data = non_matched_df['cleaned_noun'].tolist()  # Replace with your actual new data\n",
    "probabilities = loaded_model.predict_proba(new_data)\n",
    "probabilities_df = pd.DataFrame(probabilities, columns=loaded_model.classes_)\n",
    "probabilities_df = probabilities_df.round(2)\n",
    "probabilities_df['max_probability'] = probabilities_df.max(axis=1)\n",
    "probabilities_df['predicted_category'] = probabilities_df.idxmax(axis=1)\n",
    "probabilities_df['cleaned_noun'] = new_data"
   ]
  },
  {
   "cell_type": "code",
   "execution_count": 82,
   "metadata": {},
   "outputs": [
    {
     "data": {
      "text/plain": [
       "count    108067.000000\n",
       "mean          0.297283\n",
       "std           0.049233\n",
       "min           0.190000\n",
       "25%           0.290000\n",
       "50%           0.290000\n",
       "75%           0.290000\n",
       "max           0.830000\n",
       "Name: max_probability, dtype: float64"
      ]
     },
     "execution_count": 82,
     "metadata": {},
     "output_type": "execute_result"
    }
   ],
   "source": [
    "probabilities_df.max_probability.describe()"
   ]
  },
  {
   "cell_type": "markdown",
   "metadata": {},
   "source": [
    "#### 1.4) Create a new category. For the undefined parts"
   ]
  },
  {
   "cell_type": "code",
   "execution_count": 83,
   "metadata": {},
   "outputs": [],
   "source": [
    "catalog_undefined =  catalog_fin.copy() "
   ]
  },
  {
   "cell_type": "code",
   "execution_count": 84,
   "metadata": {},
   "outputs": [
    {
     "data": {
      "text/plain": [
       "category_noun\n",
       "Fasteners                                    130127\n",
       "Undefined                                    108067\n",
       "Electrical Installation Materials, device     45340\n",
       "Valves, Actuator, Fittings                    36984\n",
       "Gas, water and sewage installation            26040\n",
       "Piping Materials                              20184\n",
       "Facility consumables                          10907\n",
       "Equipment OEM Spare Parts                      5170\n",
       "Name: count, dtype: int64"
      ]
     },
     "execution_count": 84,
     "metadata": {},
     "output_type": "execute_result"
    }
   ],
   "source": [
    "catalog_undefined['category_noun'] = catalog_undefined['category_noun'].fillna('Undefined')\n",
    "catalog_undefined['category_noun'].value_counts()"
   ]
  },
  {
   "cell_type": "code",
   "execution_count": 87,
   "metadata": {},
   "outputs": [
    {
     "data": {
      "text/html": [
       "<div>\n",
       "<style scoped>\n",
       "    .dataframe tbody tr th:only-of-type {\n",
       "        vertical-align: middle;\n",
       "    }\n",
       "\n",
       "    .dataframe tbody tr th {\n",
       "        vertical-align: top;\n",
       "    }\n",
       "\n",
       "    .dataframe thead th {\n",
       "        text-align: right;\n",
       "    }\n",
       "</style>\n",
       "<table border=\"1\" class=\"dataframe\">\n",
       "  <thead>\n",
       "    <tr style=\"text-align: right;\">\n",
       "      <th></th>\n",
       "      <th>product_id</th>\n",
       "      <th>quality_status</th>\n",
       "      <th>manufacturer_name</th>\n",
       "      <th>manufacturer_pid</th>\n",
       "      <th>model</th>\n",
       "      <th>short_description</th>\n",
       "      <th>long_description</th>\n",
       "      <th>additional_description</th>\n",
       "      <th>noun</th>\n",
       "      <th>norm</th>\n",
       "      <th>scope</th>\n",
       "      <th>site</th>\n",
       "      <th>cleaned_noun</th>\n",
       "      <th>category_noun</th>\n",
       "      <th>matched_noun</th>\n",
       "      <th>word_count</th>\n",
       "      <th>predicted_category</th>\n",
       "      <th>max_probability</th>\n",
       "    </tr>\n",
       "  </thead>\n",
       "  <tbody>\n",
       "    <tr>\n",
       "      <th>0</th>\n",
       "      <td>101050487</td>\n",
       "      <td>SPARROW_APPROVED</td>\n",
       "      <td>CKD</td>\n",
       "      <td>SCM-FA-20B-100-T3H3-D-Z-6</td>\n",
       "      <td>SCM-FA-20B-100-T3H3-D-Z-6</td>\n",
       "      <td>air cylinder</td>\n",
       "      <td>NaN</td>\n",
       "      <td>NaN</td>\n",
       "      <td>cylinder</td>\n",
       "      <td>NaN</td>\n",
       "      <td>In</td>\n",
       "      <td>YA2Z Shiga</td>\n",
       "      <td>cylinder</td>\n",
       "      <td>Valves, Actuator, Fittings</td>\n",
       "      <td>cylinder</td>\n",
       "      <td>1</td>\n",
       "      <td>Valves, Actuator, Fittings</td>\n",
       "      <td>0.99478</td>\n",
       "    </tr>\n",
       "    <tr>\n",
       "      <th>1</th>\n",
       "      <td>101050486</td>\n",
       "      <td>SPARROW_APPROVED</td>\n",
       "      <td>CKD</td>\n",
       "      <td>SCM-TA-25B-50-T3H3-D-B2-6</td>\n",
       "      <td>SCM-TA-25B-50-T3H3-D-B2-6</td>\n",
       "      <td>air cylinder</td>\n",
       "      <td>NaN</td>\n",
       "      <td>NaN</td>\n",
       "      <td>cylinder</td>\n",
       "      <td>NaN</td>\n",
       "      <td>In</td>\n",
       "      <td>YA2Z Shiga</td>\n",
       "      <td>cylinder</td>\n",
       "      <td>Valves, Actuator, Fittings</td>\n",
       "      <td>cylinder</td>\n",
       "      <td>1</td>\n",
       "      <td>Valves, Actuator, Fittings</td>\n",
       "      <td>0.99478</td>\n",
       "    </tr>\n",
       "  </tbody>\n",
       "</table>\n",
       "</div>"
      ],
      "text/plain": [
       "   product_id    quality_status manufacturer_name           manufacturer_pid  \\\n",
       "0   101050487  SPARROW_APPROVED               CKD  SCM-FA-20B-100-T3H3-D-Z-6   \n",
       "1   101050486  SPARROW_APPROVED               CKD  SCM-TA-25B-50-T3H3-D-B2-6   \n",
       "\n",
       "                       model short_description long_description  \\\n",
       "0  SCM-FA-20B-100-T3H3-D-Z-6      air cylinder              NaN   \n",
       "1  SCM-TA-25B-50-T3H3-D-B2-6      air cylinder              NaN   \n",
       "\n",
       "  additional_description      noun norm scope        site cleaned_noun  \\\n",
       "0                    NaN  cylinder  NaN    In  YA2Z Shiga     cylinder   \n",
       "1                    NaN  cylinder  NaN    In  YA2Z Shiga     cylinder   \n",
       "\n",
       "                category_noun matched_noun  word_count  \\\n",
       "0  Valves, Actuator, Fittings     cylinder           1   \n",
       "1  Valves, Actuator, Fittings     cylinder           1   \n",
       "\n",
       "           predicted_category  max_probability  \n",
       "0  Valves, Actuator, Fittings          0.99478  \n",
       "1  Valves, Actuator, Fittings          0.99478  "
      ]
     },
     "execution_count": 87,
     "metadata": {},
     "output_type": "execute_result"
    }
   ],
   "source": [
    "loaded_model = joblib.load('models/text_classification_model_full_catalog.joblib')\n",
    "predicted_categories = loaded_model.predict(catalog_undefined['cleaned_noun'])\n",
    "predicted_probabilities = loaded_model.predict_proba(catalog_undefined['cleaned_noun'])\n",
    "max_probabilities = np.max(predicted_probabilities, axis=1)\n",
    "catalog_undefined['predicted_category'] = predicted_categories\n",
    "catalog_undefined['max_probability'] = max_probabilities\n",
    "catalog_undefined.head(2)"
   ]
  },
  {
   "cell_type": "code",
   "execution_count": 86,
   "metadata": {},
   "outputs": [
    {
     "data": {
      "text/plain": [
       "count    382819.000000\n",
       "mean          0.798983\n",
       "std           0.279082\n",
       "min           0.208119\n",
       "25%           0.411206\n",
       "50%           0.981556\n",
       "75%           0.997373\n",
       "max           0.999998\n",
       "Name: max_probability, dtype: float64"
      ]
     },
     "execution_count": 86,
     "metadata": {},
     "output_type": "execute_result"
    }
   ],
   "source": [
    "catalog_undefined.max_probability.describe()"
   ]
  },
  {
   "cell_type": "markdown",
   "metadata": {},
   "source": [
    "Include a threshold so that every time the maximum probability is below it, we assign it to the Undefined category"
   ]
  },
  {
   "cell_type": "code",
   "execution_count": 88,
   "metadata": {},
   "outputs": [],
   "source": [
    "catalog_undefined['category_noun_updated'] = catalog_undefined.apply(lambda row: 'Undefined' \n",
    "if row['max_probability'] < 0.50 else row['predicted_category'], axis=1)"
   ]
  },
  {
   "cell_type": "code",
   "execution_count": 89,
   "metadata": {},
   "outputs": [
    {
     "data": {
      "text/plain": [
       "category_noun_updated\n",
       "Fasteners                                    132469\n",
       "Undefined                                    104596\n",
       "Electrical Installation Materials, device     47085\n",
       "Valves, Actuator, Fittings                    36804\n",
       "Gas, water and sewage installation            26120\n",
       "Piping Materials                              20069\n",
       "Facility consumables                          10566\n",
       "Equipment OEM Spare Parts                      5110\n",
       "Name: count, dtype: int64"
      ]
     },
     "execution_count": 89,
     "metadata": {},
     "output_type": "execute_result"
    }
   ],
   "source": [
    "catalog_undefined['category_noun_updated'].value_counts()"
   ]
  },
  {
   "cell_type": "code",
   "execution_count": 91,
   "metadata": {},
   "outputs": [],
   "source": [
    "# For just obtaining 1k parts\n",
    "# num_samples_per_category = 1000 // len(catalog_undefined['category_noun_updated'].unique())\n",
    "# sampled_df = catalog_undefined.groupby('category_noun_updated', group_keys=False).apply(lambda x: x.sample(min(len(x), num_samples_per_category)))\n",
    "# sampled_df = sampled_df.sample(frac=1, random_state=42).head(1000)\n",
    "# sampled_df"
   ]
  },
  {
   "cell_type": "markdown",
   "metadata": {},
   "source": [
    "Surprisingly, the use of this threshold helps us to identify quite clearly the category Undefined"
   ]
  },
  {
   "cell_type": "code",
   "execution_count": 92,
   "metadata": {},
   "outputs": [
    {
     "name": "stdout",
     "output_type": "stream",
     "text": [
      "                                           precision    recall  f1-score   support\n",
      "\n",
      "Electrical Installation Materials, device       0.95      0.98      0.97     45340\n",
      "                Equipment OEM Spare Parts       0.99      0.98      0.98      5170\n",
      "                     Facility consumables       1.00      0.97      0.98     10907\n",
      "                                Fasteners       0.98      1.00      0.99    130127\n",
      "       Gas, water and sewage installation       0.98      0.99      0.99     26040\n",
      "                         Piping Materials       1.00      0.99      1.00     20184\n",
      "                                Undefined       0.98      0.95      0.97    108067\n",
      "               Valves, Actuator, Fittings       1.00      0.99      0.99     36984\n",
      "\n",
      "                                 accuracy                           0.98    382819\n",
      "                                macro avg       0.98      0.98      0.98    382819\n",
      "                             weighted avg       0.98      0.98      0.98    382819\n",
      "\n"
     ]
    }
   ],
   "source": [
    "real_labels = catalog_undefined['category_noun']\n",
    "predicted_labels = catalog_undefined['category_noun_updated']\n",
    "metrics = classification_report(real_labels, predicted_labels)\n",
    "print(metrics)"
   ]
  }
 ],
 "metadata": {
  "kernelspec": {
   "display_name": "base",
   "language": "python",
   "name": "python3"
  },
  "language_info": {
   "codemirror_mode": {
    "name": "ipython",
    "version": 3
   },
   "file_extension": ".py",
   "mimetype": "text/x-python",
   "name": "python",
   "nbconvert_exporter": "python",
   "pygments_lexer": "ipython3",
   "version": "3.12.7"
  }
 },
 "nbformat": 4,
 "nbformat_minor": 2
}
